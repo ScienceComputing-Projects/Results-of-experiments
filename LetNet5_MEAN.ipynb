{
 "cells": [
  {
   "cell_type": "markdown",
   "metadata": {
    "colab_type": "text",
    "id": "mhRSUAps5jTN"
   },
   "source": [
    "#  <span style=\"color:BLUE\">IMPORTACIÓN DE LIBRERIAS</span>"
   ]
  },
  {
   "cell_type": "code",
   "execution_count": null,
   "metadata": {
    "colab": {},
    "colab_type": "code",
    "id": "avNo0gUj5Xnp"
   },
   "outputs": [],
   "source": [
    "from keras.datasets import cifar10\n",
    "from keras.utils import np_utils\n",
    "from keras.models import Sequential\n",
    "from keras import models, layers\n",
    "import keras\n",
    "from numpy import mean\n",
    "from numpy import std\n",
    "from matplotlib import pyplot\n",
    "from sklearn.model_selection import KFold\n",
    "from keras.datasets import fashion_mnist\n",
    "from keras.utils import to_categorical\n",
    "from keras.models import Sequential\n",
    "from keras.layers import Conv2D\n",
    "from keras.layers import MaxPooling2D\n",
    "from keras.layers import Dense\n",
    "from keras.layers import Flatten\n",
    "from keras.optimizers import SGD\n",
    "from timeit import timeit\n",
    "from time import time\n",
    "import matplotlib.pyplot as plt"
   ]
  },
  {
   "cell_type": "markdown",
   "metadata": {
    "colab_type": "text",
    "id": "CFgEp6p05rbZ"
   },
   "source": [
    "#  <span style=\"color:BLUE\">**CARGA DEL DATASET (50000K DE IMÁGENES) Y SU RESPECTIVA NORMALIZACIÓN**</span>"
   ]
  },
  {
   "cell_type": "code",
   "execution_count": 1,
   "metadata": {
    "colab": {
     "base_uri": "https://localhost:8080/",
     "height": 68
    },
    "colab_type": "code",
    "id": "ZGA4kM6NWqoG",
    "outputId": "9a74b6f6-646a-49b0-8ab0-886393284c39"
   },
   "outputs": [
    {
     "name": "stderr",
     "output_type": "stream",
     "text": [
      "Using TensorFlow backend.\n"
     ]
    },
    {
     "name": "stdout",
     "output_type": "stream",
     "text": [
      "Downloading data from https://www.cs.toronto.edu/~kriz/cifar-10-python.tar.gz\n",
      "170500096/170498071 [==============================] - 11s 0us/step\n"
     ]
    }
   ],
   "source": [
    "\n",
    "# Load dataset as train and test sets\n",
    "(x_train, y_train), (x_test, y_test) = cifar10.load_data()\n",
    "\n",
    "# Set numeric type to float32 from uint8\n",
    "x_train = x_train.astype('float32')\n",
    "x_test = x_test.astype('float32')\n",
    "\n",
    "# Normalize value to [0, 1]\n",
    "#x_train /= 255\n",
    "#x_test /= 255\n",
    "\n",
    "mean=np.mean(x_train, axis=(0,1,2,3))\n",
    "std=np.std(x_train, axis=(0,1,2,3))\n",
    "x_train =(x_train)/(std+1e-7)\n",
    "x_test =(x_test)/(std+1e-7)\n",
    "\n",
    "# Transform lables to one-hot encoding\n",
    "y_train = np_utils.to_categorical(y_train, 10)\n",
    "y_test = np_utils.to_categorical(y_test, 10)\n",
    "\n",
    "# Reshape the dataset into 4D array\n",
    "x_train = x_train.reshape(x_train.shape[0], 32,32,3)\n",
    "x_test = x_test.reshape(x_test.shape[0], 32,32,3)"
   ]
  },
  {
   "cell_type": "markdown",
   "metadata": {
    "colab": {},
    "colab_type": "code",
    "id": "1HnJ8zR01jF5"
   },
   "source": [
    "#  <span style=\"color:BLUE\">ENTRENAMIENTO DEL MODELO</span>"
   ]
  },
  {
   "cell_type": "code",
   "execution_count": null,
   "metadata": {
    "colab": {},
    "colab_type": "code",
    "id": "qnKcfauZWAU2"
   },
   "outputs": [],
   "source": [
    "\n",
    "#Instantiate an empty model\n",
    "model = Sequential()\n",
    "\n",
    "# C1 Convolutional Layer\n",
    "model.add(layers.Conv2D(6, kernel_size=(5, 5), strides=(1, 1), activation='tanh', input_shape=(32,32,3), padding='same'))\n",
    "\n",
    "# S2 Pooling Layer\n",
    "model.add(layers.AveragePooling2D(pool_size=(2, 2), strides=(1, 1), padding='valid'))\n",
    "\n",
    "# C3 Convolutional Layer\n",
    "model.add(layers.Conv2D(16, kernel_size=(5, 5), strides=(1, 1), activation='tanh', padding='valid'))\n",
    "\n",
    "# S4 Pooling Layer\n",
    "model.add(layers.AveragePooling2D(pool_size=(2, 2), strides=(2, 2), padding='valid'))\n",
    "\n",
    "# C5 Fully Connected Convolutional Layer\n",
    "model.add(layers.Conv2D(120, kernel_size=(5, 5), strides=(1, 1), activation='tanh', padding='valid'))\n",
    "#Flatten the CNN output so that we can connect it with fully connected layers\n",
    "model.add(layers.Flatten())\n",
    "\n",
    "# FC6 Fully Connected Layer\n",
    "model.add(layers.Dense(84, activation='tanh'))\n",
    "\n",
    "#Output Layer with softmax activation\n",
    "model.add(layers.Dense(10, activation='softmax'))\n",
    "\n",
    "# Compile the model\n",
    "model.compile(loss=keras.losses.categorical_crossentropy, optimizer='SGD', metrics=['accuracy'])"
   ]
  },
  {
   "cell_type": "markdown",
   "metadata": {
    "colab": {},
    "colab_type": "code",
    "id": "e1_KZBfwO_9f"
   },
   "source": [
    "#  <span style=\"color:BLUE\">ENTRENAMIENTO DEL MODELO</span>"
   ]
  },
  {
   "cell_type": "code",
   "execution_count": 4,
   "metadata": {
    "colab": {
     "base_uri": "https://localhost:8080/",
     "height": 411
    },
    "colab_type": "code",
    "id": "wYmMErxTWGh2",
    "outputId": "41d0839e-d9b9-4d77-c91d-1747996d641f"
   },
   "outputs": [
    {
     "name": "stdout",
     "output_type": "stream",
     "text": [
      "Train on 50000 samples, validate on 10000 samples\n",
      "Epoch 1/10\n",
      "50000/50000 [==============================] - 12s 248us/step - loss: 1.8978 - accuracy: 0.3221 - val_loss: 1.7392 - val_accuracy: 0.3886\n",
      "Epoch 2/10\n",
      "50000/50000 [==============================] - 6s 128us/step - loss: 1.6595 - accuracy: 0.4141 - val_loss: 1.5716 - val_accuracy: 0.4366\n",
      "Epoch 3/10\n",
      "50000/50000 [==============================] - 6s 130us/step - loss: 1.5587 - accuracy: 0.4454 - val_loss: 1.5421 - val_accuracy: 0.4490\n",
      "Epoch 4/10\n",
      "50000/50000 [==============================] - 7s 135us/step - loss: 1.4977 - accuracy: 0.4674 - val_loss: 1.5273 - val_accuracy: 0.4518\n",
      "Epoch 5/10\n",
      "50000/50000 [==============================] - 6s 130us/step - loss: 1.4499 - accuracy: 0.4871 - val_loss: 1.4400 - val_accuracy: 0.4886\n",
      "Epoch 6/10\n",
      "50000/50000 [==============================] - 6s 127us/step - loss: 1.4092 - accuracy: 0.5018 - val_loss: 1.4361 - val_accuracy: 0.4867\n",
      "Epoch 7/10\n",
      "50000/50000 [==============================] - 6s 127us/step - loss: 1.3712 - accuracy: 0.5140 - val_loss: 1.3906 - val_accuracy: 0.5058\n",
      "Epoch 8/10\n",
      "50000/50000 [==============================] - 6s 127us/step - loss: 1.3440 - accuracy: 0.5230 - val_loss: 1.4491 - val_accuracy: 0.4802\n",
      "Epoch 9/10\n",
      "50000/50000 [==============================] - 6s 127us/step - loss: 1.3174 - accuracy: 0.5350 - val_loss: 1.3284 - val_accuracy: 0.5293\n",
      "Epoch 10/10\n",
      "50000/50000 [==============================] - 6s 127us/step - loss: 1.2904 - accuracy: 0.5453 - val_loss: 1.3180 - val_accuracy: 0.5325\n",
      "Elapsed time: 70.7900340557 seconds.\n"
     ]
    }
   ],
   "source": [
    "def test():\n",
    "  hist = model.fit(x=x_train,y=y_train, epochs=10, batch_size=128, validation_data=(x_test, y_test), verbose=1)\n",
    "  \n",
    "       \n",
    "start_time = time()\n",
    "test()\n",
    "elapsed_time = time() - start_time\n",
    "print(\"Elapsed time: %.10f seconds.\" % elapsed_time)\n",
    "\n"
   ]
  },
  {
   "cell_type": "code",
   "execution_count": 5,
   "metadata": {
    "colab": {
     "base_uri": "https://localhost:8080/",
     "height": 394
    },
    "colab_type": "code",
    "id": "viQBuF6npPYc",
    "outputId": "8d68bf48-782e-4cde-a658-d1e7f768e60f"
   },
   "outputs": [
    {
     "name": "stdout",
     "output_type": "stream",
     "text": [
      "Train on 50000 samples, validate on 10000 samples\n",
      "Epoch 1/10\n",
      "50000/50000 [==============================] - 6s 128us/step - loss: 1.2689 - accuracy: 0.5535 - val_loss: 1.3337 - val_accuracy: 0.5279\n",
      "Epoch 2/10\n",
      "50000/50000 [==============================] - 6s 127us/step - loss: 1.2459 - accuracy: 0.5632 - val_loss: 1.3450 - val_accuracy: 0.5208\n",
      "Epoch 3/10\n",
      "50000/50000 [==============================] - 6s 127us/step - loss: 1.2247 - accuracy: 0.5702 - val_loss: 1.2711 - val_accuracy: 0.5489\n",
      "Epoch 4/10\n",
      "50000/50000 [==============================] - 6s 127us/step - loss: 1.2059 - accuracy: 0.5757 - val_loss: 1.2727 - val_accuracy: 0.5476\n",
      "Epoch 5/10\n",
      "50000/50000 [==============================] - 6s 127us/step - loss: 1.1875 - accuracy: 0.5829 - val_loss: 1.2531 - val_accuracy: 0.5587\n",
      "Epoch 6/10\n",
      "50000/50000 [==============================] - 6s 127us/step - loss: 1.1711 - accuracy: 0.5883 - val_loss: 1.2568 - val_accuracy: 0.5582\n",
      "Epoch 7/10\n",
      "50000/50000 [==============================] - 6s 127us/step - loss: 1.1540 - accuracy: 0.5958 - val_loss: 1.2678 - val_accuracy: 0.5489\n",
      "Epoch 8/10\n",
      "50000/50000 [==============================] - 6s 127us/step - loss: 1.1359 - accuracy: 0.6020 - val_loss: 1.2495 - val_accuracy: 0.5565\n",
      "Epoch 9/10\n",
      "50000/50000 [==============================] - 6s 127us/step - loss: 1.1213 - accuracy: 0.6077 - val_loss: 1.2312 - val_accuracy: 0.5652\n",
      "Epoch 10/10\n",
      "50000/50000 [==============================] - 6s 127us/step - loss: 1.1033 - accuracy: 0.6151 - val_loss: 1.2492 - val_accuracy: 0.5654\n"
     ]
    }
   ],
   "source": [
    "hist = model.fit(x=x_train,y=y_train, epochs=10, batch_size=128, validation_data=(x_test, y_test), verbose=1)"
   ]
  },
  {
   "cell_type": "markdown",
   "metadata": {
    "colab": {},
    "colab_type": "code",
    "id": "Kv3MU-TiPny9"
   },
   "source": [
    "#  <span style=\"color:BLUE\">RESULTADOS DE LA EVALUACIÓN</span>"
   ]
  },
  {
   "cell_type": "code",
   "execution_count": 6,
   "metadata": {
    "colab": {
     "base_uri": "https://localhost:8080/",
     "height": 51
    },
    "colab_type": "code",
    "id": "yzlq0qkTWIVw",
    "outputId": "778a435b-35c2-4f95-b8fa-6d13ca4dce93"
   },
   "outputs": [
    {
     "name": "stdout",
     "output_type": "stream",
     "text": [
      "10000/10000 [==============================] - 1s 125us/step\n",
      "Test loss 1.2492, accuracy 56.54%\n"
     ]
    }
   ],
   "source": [
    "test_score = model.evaluate(x_test, y_test)\n",
    "print('Test loss {:.4f}, accuracy {:.2f}%'.format(test_score[0], test_score[1] * 100))"
   ]
  },
  {
   "cell_type": "markdown",
   "metadata": {},
   "source": [
    "#  <span style=\"color:BLUE\">GRÁFICA DE LA EVALUACIÓN Y ENTRENAMIENTO ACC</span>"
   ]
  },
  {
   "cell_type": "code",
   "execution_count": 7,
   "metadata": {
    "colab": {
     "base_uri": "https://localhost:8080/",
     "height": 312
    },
    "colab_type": "code",
    "id": "ZKn7nhBXWLV5",
    "outputId": "7c09e005-4eea-45f9-e8af-f6b19fe88150"
   },
   "outputs": [
    {
     "data": {
      "text/plain": [
       "Text(0, 0.5, 'acc')"
      ]
     },
     "execution_count": 7,
     "metadata": {
      "tags": []
     },
     "output_type": "execute_result"
    },
    {
     "data": {
      "image/png": "[encoded data removed]",
      "text/plain": [
       "<Figure size 432x288 with 1 Axes>"
      ]
     },
     "metadata": {
      "needs_background": "light",
      "tags": []
     },
     "output_type": "display_data"
    }
   ],
   "source": [
    "f, ax = plt.subplots()\n",
    "ax.plot([None] + hist.history['accuracy'], 'o-')\n",
    "ax.plot([None] + hist.history['val_accuracy'],'x-')\n",
    "# Plot legend and use the best location automatically: loc = 0.\n",
    "ax.legend(['Train acc', 'Validation acc'], loc = 0)\n",
    "ax.set_title('Training/Validation acc per Epoch')\n",
    "ax.set_xlabel('Epoch')\n",
    "ax.set_ylabel('acc')"
   ]
  },
  {
   "cell_type": "code",
   "execution_count": 8,
   "metadata": {
    "colab": {
     "base_uri": "https://localhost:8080/",
     "height": 312
    },
    "colab_type": "code",
    "id": "vrSfvHQ8WNIL",
    "outputId": "807e24ca-651b-44de-99ed-d2f7e73b9b68"
   },
   "outputs": [
    {
     "data": {
      "text/plain": [
       "Text(0, 0.5, 'Loss')"
      ]
     },
     "execution_count": 8,
     "metadata": {
      "tags": []
     },
     "output_type": "execute_result"
    },
    {
     "data": {
      "image/png": "[encoded data removed]",
      "text/plain": [
       "<Figure size 432x288 with 1 Axes>"
      ]
     },
     "metadata": {
      "needs_background": "light",
      "tags": []
     },
     "output_type": "display_data"
    }
   ],
   "source": [
    "import matplotlib.pyplot as plt\n",
    "f, ax = plt.subplots()\n",
    "ax.plot([None] + hist.history['loss'], 'o-')\n",
    "ax.plot([None] + hist.history['val_loss'], 'x-')\n",
    "# Plot legend and use the best location automatically: loc = 0.\n",
    "ax.legend(['Train Loss', 'Validation Loss'], loc = 0)\n",
    "ax.set_title('Training/Validation Loss per Epoch')\n",
    "ax.set_xlabel('Epoch')\n",
    "ax.set_ylabel('Loss')"
   ]
  }
 ],
 "metadata": {
  "accelerator": "GPU",
  "colab": {
   "name": "LetNet5_MEAN",
   "provenance": []
  },
  "kernelspec": {
   "display_name": "Python 3",
   "language": "python",
   "name": "python3"
  },
  "language_info": {
   "codemirror_mode": {
    "name": "ipython",
    "version": 3
   },
   "file_extension": ".py",
   "mimetype": "text/x-python",
   "name": "python",
   "nbconvert_exporter": "python",
   "pygments_lexer": "ipython3",
   "version": "3.7.6"
  }
 },
 "nbformat": 4,
 "nbformat_minor": 1
}
