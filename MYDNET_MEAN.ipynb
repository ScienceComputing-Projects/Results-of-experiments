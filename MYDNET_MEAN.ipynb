{
 "cells": [
  {
   "cell_type": "markdown",
   "metadata": {
    "colab_type": "text",
    "id": "CciI--FkmqA7"
   },
   "source": [
    "#  <span style=\"color:BLUE\">IMPORTACIÓN DE LIBRERIAS</span>"
   ]
  },
  {
   "cell_type": "code",
   "execution_count": 1,
   "metadata": {
    "colab": {},
    "colab_type": "code",
    "id": "6hVP_x2lmqA-"
   },
   "outputs": [],
   "source": [
    "import tarfile\n",
    "from tensorflow.keras.datasets import cifar10\n",
    "from tensorflow.keras.models import Sequential\n",
    "from tensorflow.keras.layers import Dense, Conv2D, MaxPooling2D, Dropout, Flatten\n",
    "import matplotlib.pyplot as plt\n",
    "import numpy as np\n",
    "from time import time"
   ]
  },
  {
   "cell_type": "markdown",
   "metadata": {
    "colab_type": "text",
    "id": "g8szrv-9mqBI"
   },
   "source": [
    "#  <span style=\"color:BLUE\">CARGA DEL DATASET (3000K DE IMÁGENES)</span>\n",
    "\n"
   ]
  },
  {
   "cell_type": "code",
   "execution_count": 2,
   "metadata": {
    "colab": {
     "base_uri": "https://localhost:8080/",
     "height": 51
    },
    "colab_type": "code",
    "id": "pSB2VSKKmqBK",
    "outputId": "270585b5-54b1-4b87-e6d0-0455b859b540"
   },
   "outputs": [
    {
     "name": "stdout",
     "output_type": "stream",
     "text": [
      "Downloading data from https://www.cs.toronto.edu/~kriz/cifar-10-python.tar.gz\n",
      "170500096/170498071 [==============================] - 16s 0us/step\n"
     ]
    }
   ],
   "source": [
    "(x_train, y_train), (x_test, y_test) = cifar10.load_data()\n"
   ]
  },
  {
   "cell_type": "markdown",
   "metadata": {
    "colab_type": "text",
    "id": "-9SGyD7NmqBT"
   },
   "source": [
    "#  <span style=\"color:BLUE\">NORMALIZACIÓN DEL DATASET (MEAS Y STD)</span>"
   ]
  },
  {
   "cell_type": "code",
   "execution_count": 3,
   "metadata": {
    "colab": {},
    "colab_type": "code",
    "id": "5lEX66Q0mqBU"
   },
   "outputs": [],
   "source": [
    "mean=np.mean(x_train, axis=(0,1,2,3))\n",
    "std=np.std(x_train, axis=(0,1,2,3))\n",
    "x_train =(x_train)/(std+1e-7)\n",
    "x_test =(x_test)/(std+1e-7)\n"
   ]
  },
  {
   "cell_type": "markdown",
   "metadata": {
    "colab_type": "text",
    "id": "pXaD_C4-mqBZ"
   },
   "source": [
    "#  <span style=\"color:BLUE\">CREACIÓN DEL MODELO</span>"
   ]
  },
  {
   "cell_type": "code",
   "execution_count": 4,
   "metadata": {
    "colab": {},
    "colab_type": "code",
    "id": "rTO-JQfUmqBa"
   },
   "outputs": [],
   "source": [
    "model = Sequential()\n",
    "model.add(Conv2D(32, (3, 3), padding='same', activation='relu', input_shape = x_train.shape[1:]))\n",
    "model.add(Conv2D(32, (3, 3), activation='relu'))\n",
    "model.add(MaxPooling2D(pool_size=(2, 2)))\n",
    "model.add(Dropout(0.25))\n",
    "\n",
    "model.add(Conv2D(64, (3, 3), padding='same', activation='relu'))\n",
    "model.add(Conv2D(64, (3, 3), activation='relu'))\n",
    "model.add(MaxPooling2D(pool_size=(2, 2)))\n",
    "model.add(Dropout(0.25))\n",
    "\n",
    "model.add(Conv2D(64, (3, 3), padding='same', activation='relu'))\n",
    "model.add(Conv2D(64, (3, 3), activation='relu'))\n",
    "model.add(MaxPooling2D(pool_size=(2, 2)))\n",
    "model.add(Dropout(0.25))\n",
    "\n",
    "model.add(Flatten())\n",
    "model.add(Dense(512, activation='relu'))\n",
    "model.add(Dropout(0.5))\n",
    "model.add(Dense(10, activation='softmax'))\n",
    "\n",
    "model.compile(loss='sparse_categorical_crossentropy',\n",
    "              optimizer='adam',\n",
    "              metrics=['accuracy'])"
   ]
  },
  {
   "cell_type": "markdown",
   "metadata": {
    "colab_type": "text",
    "id": "_GlMOIW7mqBf"
   },
   "source": [
    "#  <span style=\"color:BLUE\">ENTRENAMIENTO DEL MODELO</span>"
   ]
  },
  {
   "cell_type": "code",
   "execution_count": 5,
   "metadata": {
    "colab": {
     "base_uri": "https://localhost:8080/",
     "height": 394
    },
    "colab_type": "code",
    "id": "KEheAFdbmqBg",
    "outputId": "f0adffd6-acb6-4804-82c9-54fbe84122ac"
   },
   "outputs": [
    {
     "name": "stdout",
     "output_type": "stream",
     "text": [
      "Epoch 1/10\n",
      "391/391 [==============================] - 5s 13ms/step - loss: 1.7310 - accuracy: 0.3500 - val_loss: 1.3882 - val_accuracy: 0.4906\n",
      "Epoch 2/10\n",
      "391/391 [==============================] - 4s 11ms/step - loss: 1.2963 - accuracy: 0.5275 - val_loss: 1.1332 - val_accuracy: 0.5945\n",
      "Epoch 3/10\n",
      "391/391 [==============================] - 5s 12ms/step - loss: 1.1111 - accuracy: 0.6029 - val_loss: 0.9572 - val_accuracy: 0.6616\n",
      "Epoch 4/10\n",
      "391/391 [==============================] - 5s 12ms/step - loss: 1.0066 - accuracy: 0.6430 - val_loss: 0.8747 - val_accuracy: 0.6913\n",
      "Epoch 5/10\n",
      "391/391 [==============================] - 5s 12ms/step - loss: 0.9150 - accuracy: 0.6763 - val_loss: 0.8293 - val_accuracy: 0.7069\n",
      "Epoch 6/10\n",
      "391/391 [==============================] - 5s 12ms/step - loss: 0.8590 - accuracy: 0.6976 - val_loss: 0.8294 - val_accuracy: 0.7084\n",
      "Epoch 7/10\n",
      "391/391 [==============================] - 5s 12ms/step - loss: 0.8115 - accuracy: 0.7147 - val_loss: 0.7407 - val_accuracy: 0.7386\n",
      "Epoch 8/10\n",
      "391/391 [==============================] - 5s 12ms/step - loss: 0.7758 - accuracy: 0.7273 - val_loss: 0.7230 - val_accuracy: 0.7500\n",
      "Epoch 9/10\n",
      "391/391 [==============================] - 5s 12ms/step - loss: 0.7368 - accuracy: 0.7401 - val_loss: 0.7177 - val_accuracy: 0.7574\n",
      "Epoch 10/10\n",
      "391/391 [==============================] - 5s 12ms/step - loss: 0.7167 - accuracy: 0.7471 - val_loss: 0.6855 - val_accuracy: 0.7586\n",
      "Elapsed time: 54.1278758049 seconds.\n"
     ]
    }
   ],
   "source": [
    "start_time = time()\n",
    "history = model.fit(x_train, y_train, batch_size= 128, epochs=10 , validation_data=(x_test, y_test), verbose=1)\n",
    "elapsed_time = time() - start_time\n",
    "print(\"Elapsed time: %.10f seconds.\" % elapsed_time)"
   ]
  },
  {
   "cell_type": "markdown",
   "metadata": {
    "colab_type": "text",
    "id": "hgQgL-LmmqBl"
   },
   "source": [
    "#  <span style=\"color:BLUE\">RESULTADOS DE LA EVALUACIÓN</span>"
   ]
  },
  {
   "cell_type": "code",
   "execution_count": 6,
   "metadata": {
    "colab": {
     "base_uri": "https://localhost:8080/",
     "height": 71
    },
    "colab_type": "code",
    "id": "34-sQUcYmqBl",
    "outputId": "609f1cad-c038-4e13-c8ea-7f35d307e2be"
   },
   "outputs": [
    {
     "name": "stdout",
     "output_type": "stream",
     "text": [
      "313/313 [==============================] - 1s 3ms/step - loss: 0.6855 - accuracy: 0.7586\n",
      "Test loss 0.6855, accuracy 75.86%\n"
     ]
    }
   ],
   "source": [
    "test_score = model.evaluate(x_test, y_test)\n",
    "print('Test loss {:.4f}, accuracy {:.2f}%'.format(test_score[0], test_score[1] * 100))"
   ]
  },
  {
   "cell_type": "markdown",
   "metadata": {
    "colab_type": "text",
    "id": "57mEkoCumqBr"
   },
   "source": [
    "#  <span style=\"color:BLUE\">GRÁFICA DE LA EVALUACIÓN Y ENTRENAMIENTO ACC</span>"
   ]
  },
  {
   "cell_type": "code",
   "execution_count": 7,
   "metadata": {
    "colab": {
     "base_uri": "https://localhost:8080/",
     "height": 312
    },
    "colab_type": "code",
    "id": "wGIvKfQHmqBs",
    "outputId": "a16f36aa-c154-4d8a-c0e0-ab0dc35d7aaa"
   },
   "outputs": [
    {
     "data": {
      "text/plain": [
       "Text(0, 0.5, 'acc')"
      ]
     },
     "execution_count": 7,
     "metadata": {
      "tags": []
     },
     "output_type": "execute_result"
    },
    {
     "data": {
      "image/png": "[encoded data removed]",
      "text/plain": [
       "<Figure size 432x288 with 1 Axes>"
      ]
     },
     "metadata": {
      "needs_background": "light",
      "tags": []
     },
     "output_type": "display_data"
    }
   ],
   "source": [
    "import matplotlib.pyplot as plt\n",
    "f, ax = plt.subplots()\n",
    "ax.plot([None] + history.history['accuracy'], 'o-')\n",
    "ax.plot([None] + history.history['val_accuracy'],'x-')\n",
    "# Plot legend and use the best location automatically: loc = 0.\n",
    "ax.legend(['Train acc', 'Validation acc'], loc = 0)\n",
    "ax.set_title('Training/Validation acc por Epoch')\n",
    "ax.set_xlabel('Epoch')\n",
    "ax.set_ylabel('acc')"
   ]
  },
  {
   "cell_type": "markdown",
   "metadata": {
    "colab_type": "text",
    "id": "2Wyeotb9mqBy"
   },
   "source": [
    "#  <span style=\"color:BLUE\">GRÁFICA DE LA EVALUACIÓN Y ENTRENAMIENTO LOSS</span>"
   ]
  },
  {
   "cell_type": "code",
   "execution_count": 8,
   "metadata": {
    "colab": {
     "base_uri": "https://localhost:8080/",
     "height": 312
    },
    "colab_type": "code",
    "id": "lzBb2R2amqBz",
    "outputId": "e3a68a98-8630-4b8e-f668-398c05ab0507"
   },
   "outputs": [
    {
     "data": {
      "text/plain": [
       "Text(0, 0.5, 'Loss')"
      ]
     },
     "execution_count": 8,
     "metadata": {
      "tags": []
     },
     "output_type": "execute_result"
    },
    {
     "data": {
      "image/png": "[encoded data removed]",
      "text/plain": [
       "<Figure size 432x288 with 1 Axes>"
      ]
     },
     "metadata": {
      "needs_background": "light",
      "tags": []
     },
     "output_type": "display_data"
    }
   ],
   "source": [
    "import matplotlib.pyplot as plt\n",
    "f, ax = plt.subplots()\n",
    "ax.plot([None] + history.history['loss'], 'o-')\n",
    "ax.plot([None] + history.history['val_loss'], 'x-')\n",
    "# Plot legend and use the best location automatically: loc = 0.\n",
    "ax.legend(['Train Loss', 'Validation Loss'], loc = 0)\n",
    "ax.set_title('Training/Validation Loss por Epoch')\n",
    "ax.set_xlabel('Epoch')\n",
    "ax.set_ylabel('Loss')"
   ]
  }
 ],
 "metadata": {
  "accelerator": "GPU",
  "colab": {
   "name": "CNN-MEAN",
   "provenance": []
  },
  "kernelspec": {
   "display_name": "Python 3",
   "language": "python",
   "name": "python3"
  },
  "language_info": {
   "codemirror_mode": {
    "name": "ipython",
    "version": 3
   },
   "file_extension": ".py",
   "mimetype": "text/x-python",
   "name": "python",
   "nbconvert_exporter": "python",
   "pygments_lexer": "ipython3",
   "version": "3.7.6"
  }
 },
 "nbformat": 4,
 "nbformat_minor": 1
}
