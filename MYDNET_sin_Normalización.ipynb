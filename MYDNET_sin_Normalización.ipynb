{
 "cells": [
  {
   "cell_type": "markdown",
   "metadata": {
    "colab_type": "text",
    "id": "i4WI7OppnuJu"
   },
   "source": [
    "\n",
    "# **IMPORTACIÓN DE LIBRERIAS**\n",
    "\n"
   ]
  },
  {
   "cell_type": "code",
   "execution_count": 8,
   "metadata": {
    "colab": {},
    "colab_type": "code",
    "id": "uM4hIDanG0R-"
   },
   "outputs": [],
   "source": [
    "import tarfile\n",
    "from tensorflow.keras.datasets import cifar10\n",
    "from tensorflow.keras.models import Sequential\n",
    "from tensorflow.keras.layers import Dense, Conv2D, MaxPooling2D, Dropout, Flatten\n",
    "import matplotlib.pyplot as plt\n",
    "import numpy as np\n",
    "from time import time\n",
    "from keras.utils import np_utils"
   ]
  },
  {
   "cell_type": "markdown",
   "metadata": {
    "colab_type": "text",
    "id": "RJyniZpMG-QL"
   },
   "source": [
    "# **CARGA DEL DATASET (50000K DE IMÁGENES) JUNTO CON SU RESPECTIVA NORMALIZACIÓN**\n"
   ]
  },
  {
   "cell_type": "code",
   "execution_count": 9,
   "metadata": {
    "colab": {},
    "colab_type": "code",
    "id": "i974HhGxG4vf"
   },
   "outputs": [],
   "source": [
    "(x_train, y_train), (x_test, y_test) = cifar10.load_data()\n"
   ]
  },
  {
   "cell_type": "markdown",
   "metadata": {
    "colab_type": "text",
    "id": "tadmZnHOsqjX"
   },
   "source": [
    "# **CREACIÓN DEL MODELO**"
   ]
  },
  {
   "cell_type": "code",
   "execution_count": 11,
   "metadata": {
    "colab": {},
    "colab_type": "code",
    "id": "l-I040lnHRaT"
   },
   "outputs": [],
   "source": [
    "model = Sequential()\n",
    "model.add(Conv2D(32, (3, 3), padding='same', activation='relu', input_shape = x_train.shape[1:]))\n",
    "model.add(Conv2D(32, (3, 3), activation='relu'))\n",
    "model.add(MaxPooling2D(pool_size=(2, 2)))\n",
    "model.add(Dropout(0.25))\n",
    "\n",
    "model.add(Conv2D(64, (3, 3), padding='same', activation='relu'))\n",
    "model.add(Conv2D(64, (3, 3), activation='relu'))\n",
    "model.add(MaxPooling2D(pool_size=(2, 2)))\n",
    "model.add(Dropout(0.25))\n",
    "\n",
    "model.add(Conv2D(64, (3, 3), padding='same', activation='relu'))\n",
    "model.add(Conv2D(64, (3, 3), activation='relu'))\n",
    "model.add(MaxPooling2D(pool_size=(2, 2)))\n",
    "model.add(Dropout(0.25))\n",
    "\n",
    "model.add(Flatten())\n",
    "model.add(Dense(512, activation='relu'))\n",
    "model.add(Dropout(0.5))\n",
    "model.add(Dense(10, activation='softmax'))\n",
    "\n",
    "model.compile(loss='sparse_categorical_crossentropy',\n",
    "              optimizer='adam',\n",
    "              metrics=['accuracy'])"
   ]
  },
  {
   "cell_type": "markdown",
   "metadata": {
    "colab_type": "text",
    "id": "Ocu9Xma1sxrv"
   },
   "source": [
    "# **ENTRENAMIENTO DEL MODELO**"
   ]
  },
  {
   "cell_type": "code",
   "execution_count": 12,
   "metadata": {
    "colab": {
     "base_uri": "https://localhost:8080/",
     "height": 394
    },
    "colab_type": "code",
    "id": "F6slpFBVHUwh",
    "outputId": "40c665ec-1421-4e8f-b037-aeb34e3c40ec"
   },
   "outputs": [
    {
     "name": "stdout",
     "output_type": "stream",
     "text": [
      "Epoch 1/10\n",
      "391/391 [==============================] - 9s 24ms/step - loss: 2.0666 - accuracy: 0.2680 - val_loss: 1.6338 - val_accuracy: 0.4063\n",
      "Epoch 2/10\n",
      "391/391 [==============================] - 9s 22ms/step - loss: 1.5496 - accuracy: 0.4300 - val_loss: 1.4040 - val_accuracy: 0.4898\n",
      "Epoch 3/10\n",
      "391/391 [==============================] - 9s 22ms/step - loss: 1.3607 - accuracy: 0.5096 - val_loss: 1.2203 - val_accuracy: 0.5604\n",
      "Epoch 4/10\n",
      "391/391 [==============================] - 9s 22ms/step - loss: 1.2400 - accuracy: 0.5573 - val_loss: 1.1181 - val_accuracy: 0.6080\n",
      "Epoch 5/10\n",
      "391/391 [==============================] - 9s 22ms/step - loss: 1.1331 - accuracy: 0.5978 - val_loss: 1.0339 - val_accuracy: 0.6325\n",
      "Epoch 6/10\n",
      "391/391 [==============================] - 9s 22ms/step - loss: 1.0733 - accuracy: 0.6226 - val_loss: 0.9273 - val_accuracy: 0.6746\n",
      "Epoch 7/10\n",
      "391/391 [==============================] - 9s 22ms/step - loss: 1.0015 - accuracy: 0.6505 - val_loss: 0.8458 - val_accuracy: 0.7118\n",
      "Epoch 8/10\n",
      "391/391 [==============================] - 9s 22ms/step - loss: 0.9581 - accuracy: 0.6673 - val_loss: 0.8378 - val_accuracy: 0.7118\n",
      "Epoch 9/10\n",
      "391/391 [==============================] - 9s 22ms/step - loss: 0.9210 - accuracy: 0.6807 - val_loss: 0.8086 - val_accuracy: 0.7226\n",
      "Epoch 10/10\n",
      "391/391 [==============================] - 9s 22ms/step - loss: 0.8781 - accuracy: 0.6942 - val_loss: 0.7989 - val_accuracy: 0.7262\n",
      "Elapsed time: 89.6082909107 seconds.\n"
     ]
    }
   ],
   "source": [
    "start_time = time()\n",
    "history = model.fit(x_train, y_train, batch_size= 128, epochs=10 , validation_data=(x_test, y_test), verbose=1)\n",
    "elapsed_time = time() - start_time\n",
    "print(\"Elapsed time: %.10f seconds.\" % elapsed_time)"
   ]
  },
  {
   "cell_type": "markdown",
   "metadata": {
    "colab_type": "text",
    "id": "X75uK9Wds6L5"
   },
   "source": [
    "# **RESULTADOS DE LA EVALUACIÓN**"
   ]
  },
  {
   "cell_type": "code",
   "execution_count": 13,
   "metadata": {
    "colab": {
     "base_uri": "https://localhost:8080/",
     "height": 71
    },
    "colab_type": "code",
    "id": "_URlHSpBHXOI",
    "outputId": "b7ab0fe5-8462-426c-ffee-7163e418e8cf"
   },
   "outputs": [
    {
     "name": "stdout",
     "output_type": "stream",
     "text": [
      "313/313 [==============================] - 1s 4ms/step - loss: 0.7989 - accuracy: 0.7262\n",
      "Test loss 0.7989, accuracy 72.62%\n"
     ]
    }
   ],
   "source": [
    "test_score = model.evaluate(x_test, y_test)\n",
    "print('Test loss {:.4f}, accuracy {:.2f}%'.format(test_score[0], test_score[1] * 100))"
   ]
  },
  {
   "cell_type": "markdown",
   "metadata": {
    "colab_type": "text",
    "id": "ofdP4nvDtCA0"
   },
   "source": [
    "# **GRÁFICA DE EVALUACIÓN Y ENTRAMIENTO ACC**"
   ]
  },
  {
   "cell_type": "code",
   "execution_count": 14,
   "metadata": {
    "colab": {
     "base_uri": "https://localhost:8080/",
     "height": 349
    },
    "colab_type": "code",
    "id": "DM9HCMMwHb84",
    "outputId": "1aea7e54-0614-4872-a00b-c1515451c0b3"
   },
   "outputs": [
    {
     "name": "stdout",
     "output_type": "stream",
     "text": [
      "[0.40630000829696655, 0.48980000615119934, 0.5604000091552734, 0.6079999804496765, 0.6324999928474426, 0.6746000051498413, 0.7117999792098999, 0.7117999792098999, 0.722599983215332, 0.7261999845504761]\n"
     ]
    },
    {
     "data": {
      "text/plain": [
       "Text(0, 0.5, 'acc')"
      ]
     },
     "execution_count": 14,
     "metadata": {
      "tags": []
     },
     "output_type": "execute_result"
    },
    {
     "data": {
      "image/png": "[encoded data removed]",
      "text/plain": [
       "<Figure size 432x288 with 1 Axes>"
      ]
     },
     "metadata": {
      "needs_background": "light",
      "tags": []
     },
     "output_type": "display_data"
    }
   ],
   "source": [
    "import matplotlib.pyplot as plt\n",
    "f, ax = plt.subplots()\n",
    "ax.plot([None] + history.history['accuracy'], 'o-')\n",
    "print(history.history['val_accuracy'])\n",
    "ax.plot([None] + history.history['val_accuracy'],'x-')\n",
    "# Plot legend and use the best location automatically: loc = 0.\n",
    "ax.legend(['Train acc', 'Validation acc'], loc = 0)\n",
    "ax.set_title('Training/Validation acc por Epoch')\n",
    "ax.set_xlabel('Epoch')\n",
    "ax.set_ylabel('acc')"
   ]
  },
  {
   "cell_type": "code",
   "execution_count": 15,
   "metadata": {
    "colab": {
     "base_uri": "https://localhost:8080/",
     "height": 312
    },
    "colab_type": "code",
    "id": "D0Z_bLqvHehL",
    "outputId": "646440a7-bf21-42dc-dc34-7fdd7c09e638"
   },
   "outputs": [
    {
     "data": {
      "text/plain": [
       "Text(0, 0.5, 'Loss')"
      ]
     },
     "execution_count": 15,
     "metadata": {
      "tags": []
     },
     "output_type": "execute_result"
    },
    {
     "data": {
      "image/png": "[encoded data removed]",
      "text/plain": [
       "<Figure size 432x288 with 1 Axes>"
      ]
     },
     "metadata": {
      "needs_background": "light",
      "tags": []
     },
     "output_type": "display_data"
    }
   ],
   "source": [
    "import matplotlib.pyplot as plt\n",
    "f, ax = plt.subplots()\n",
    "ax.plot([None] + history.history['loss'], 'o-')\n",
    "ax.plot([None] + history.history['val_loss'], 'x-')\n",
    "# Plot legend and use the best location automatically: loc = 0.\n",
    "ax.legend(['Train Loss', 'Validation Loss'], loc = 0)\n",
    "ax.set_title('Training/Validation Loss por Epoch')\n",
    "ax.set_xlabel('Epoch')\n",
    "ax.set_ylabel('Loss')"
   ]
  },
  {
   "cell_type": "code",
   "execution_count": 16,
   "metadata": {
    "colab": {
     "base_uri": "https://localhost:8080/",
     "height": 142
    },
    "colab_type": "code",
    "id": "Szr7W_ik7MRF",
    "outputId": "ca0b5035-bcfe-4905-dd8a-6056fde92019"
   },
   "outputs": [
    {
     "data": {
      "text/html": [
       "<div>\n",
       "<style scoped>\n",
       "    .dataframe tbody tr th:only-of-type {\n",
       "        vertical-align: middle;\n",
       "    }\n",
       "\n",
       "    .dataframe tbody tr th {\n",
       "        vertical-align: top;\n",
       "    }\n",
       "\n",
       "    .dataframe thead th {\n",
       "        text-align: right;\n",
       "    }\n",
       "</style>\n",
       "<table border=\"1\" class=\"dataframe\">\n",
       "  <thead>\n",
       "    <tr style=\"text-align: right;\">\n",
       "      <th></th>\n",
       "      <th>CNN</th>\n",
       "      <th>MIN-MAX</th>\n",
       "      <th>MEAN</th>\n",
       "      <th>255</th>\n",
       "    </tr>\n",
       "  </thead>\n",
       "  <tbody>\n",
       "    <tr>\n",
       "      <th>0</th>\n",
       "      <td>LeNet-5</td>\n",
       "      <td>70.51</td>\n",
       "      <td>51.32</td>\n",
       "      <td>42.50</td>\n",
       "    </tr>\n",
       "    <tr>\n",
       "      <th>1</th>\n",
       "      <td>MP</td>\n",
       "      <td>111.40</td>\n",
       "      <td>54.12</td>\n",
       "      <td>41.99</td>\n",
       "    </tr>\n",
       "    <tr>\n",
       "      <th>2</th>\n",
       "      <td>AlexNet</td>\n",
       "      <td>119.95</td>\n",
       "      <td>119.87</td>\n",
       "      <td>126.63</td>\n",
       "    </tr>\n",
       "  </tbody>\n",
       "</table>\n",
       "</div>"
      ],
      "text/plain": [
       "       CNN  MIN-MAX    MEAN     255\n",
       "0  LeNet-5    70.51   51.32   42.50\n",
       "1       MP   111.40   54.12   41.99\n",
       "2  AlexNet   119.95  119.87  126.63"
      ]
     },
     "execution_count": 16,
     "metadata": {
      "tags": []
     },
     "output_type": "execute_result"
    }
   ],
   "source": [
    "import pandas as pd\n",
    "tabla = pd.DataFrame(columns=('CNN','MIN-MAX', 'MEAN','255'))\n",
    "tabla.loc[len(tabla)]=['LeNet-5',70.51,51.32, 42.50] \n",
    "tabla.loc[len(tabla)]=['MP',111.40,54.12,41.99] \n",
    "tabla.loc[len(tabla)]=['AlexNet',119.95,119.87,126.63] \n",
    "tabla\n",
    "tabla.head()"
   ]
  },
  {
   "cell_type": "code",
   "execution_count": 17,
   "metadata": {
    "colab": {
     "base_uri": "https://localhost:8080/",
     "height": 142
    },
    "colab_type": "code",
    "id": "lxyluLYyaheK",
    "outputId": "bdd9f52c-9d2d-4826-9186-6849d0e25fa7"
   },
   "outputs": [
    {
     "data": {
      "text/html": [
       "<div>\n",
       "<style scoped>\n",
       "    .dataframe tbody tr th:only-of-type {\n",
       "        vertical-align: middle;\n",
       "    }\n",
       "\n",
       "    .dataframe tbody tr th {\n",
       "        vertical-align: top;\n",
       "    }\n",
       "\n",
       "    .dataframe thead th {\n",
       "        text-align: right;\n",
       "    }\n",
       "</style>\n",
       "<table border=\"1\" class=\"dataframe\">\n",
       "  <thead>\n",
       "    <tr style=\"text-align: right;\">\n",
       "      <th></th>\n",
       "      <th>CNN</th>\n",
       "      <th>MIN-MAX</th>\n",
       "      <th>MEAN</th>\n",
       "      <th>255</th>\n",
       "    </tr>\n",
       "  </thead>\n",
       "  <tbody>\n",
       "    <tr>\n",
       "      <th>0</th>\n",
       "      <td>LeNet-5</td>\n",
       "      <td>50.05%</td>\n",
       "      <td>56.69%</td>\n",
       "      <td>50.11%</td>\n",
       "    </tr>\n",
       "    <tr>\n",
       "      <th>1</th>\n",
       "      <td>MP</td>\n",
       "      <td>75.54%</td>\n",
       "      <td>75.86%</td>\n",
       "      <td>75.01%</td>\n",
       "    </tr>\n",
       "    <tr>\n",
       "      <th>2</th>\n",
       "      <td>AlexNet</td>\n",
       "      <td>73.97%</td>\n",
       "      <td>75.29%</td>\n",
       "      <td>74.96%</td>\n",
       "    </tr>\n",
       "  </tbody>\n",
       "</table>\n",
       "</div>"
      ],
      "text/plain": [
       "       CNN MIN-MAX    MEAN     255\n",
       "0  LeNet-5  50.05%  56.69%  50.11%\n",
       "1       MP  75.54%  75.86%  75.01%\n",
       "2  AlexNet  73.97%  75.29%  74.96%"
      ]
     },
     "execution_count": 17,
     "metadata": {
      "tags": []
     },
     "output_type": "execute_result"
    }
   ],
   "source": [
    "import pandas as pd\n",
    "tabla = pd.DataFrame(columns=('CNN','MIN-MAX', 'MEAN','255'))\n",
    "tabla.loc[len(tabla)]=['LeNet-5','50.05%','56.69%','50.11%' ] \n",
    "tabla.loc[len(tabla)]=['MP','75.54%','75.86%','75.01%'] \n",
    "tabla.loc[len(tabla)]=['AlexNet','73.97%','75.29%','74.96%'] \n",
    "tabla\n",
    "tabla.head()"
   ]
  },
  {
   "cell_type": "code",
   "execution_count": 18,
   "metadata": {
    "colab": {},
    "colab_type": "code",
    "id": "icMuNwhSXLk4"
   },
   "outputs": [],
   "source": [
    "lenet = [0.5471000075340271, 0.550599992275238, 0.5371000170707703, 0.5496000051498413, 0.5576000213623047, 0.5666000247001648, 0.5665000081062317, 0.5665000081062317, 0.5720999836921692, 0.5666999816894531]\n",
    "alex = [0.5329999923706055, 0.6796000003814697, 0.7276999950408936, 0.7267000079154968, 0.7498000264167786, 0.7384999990463257, 0.7437000274658203, 0.7404999732971191, 0.7365999817848206, 0.7511000037193298]\n",
    "cnn = [0.4934000074863434, 0.5856999754905701, 0.6330000162124634, 0.6948999762535095, 0.7056000232696533, 0.7311999797821045, 0.7330999970436096, 0.7559999823570251, 0.7695000171661377, 0.7663000226020813]"
   ]
  },
  {
   "cell_type": "code",
   "execution_count": 19,
   "metadata": {
    "colab": {
     "base_uri": "https://localhost:8080/",
     "height": 312
    },
    "colab_type": "code",
    "id": "lo1Y3wjNXiwY",
    "outputId": "79ace09a-3f3e-4bfd-ae80-dbbdb7dab88a"
   },
   "outputs": [
    {
     "data": {
      "text/plain": [
       "Text(0, 0.5, 'acc')"
      ]
     },
     "execution_count": 19,
     "metadata": {
      "tags": []
     },
     "output_type": "execute_result"
    },
    {
     "data": {
      "image/png": "[encoded data removed]",
      "text/plain": [
       "<Figure size 432x288 with 1 Axes>"
      ]
     },
     "metadata": {
      "needs_background": "light",
      "tags": []
     },
     "output_type": "display_data"
    }
   ],
   "source": [
    "import matplotlib.pyplot as plt\n",
    "f, ax = plt.subplots()\n",
    "\n",
    "ax.plot([None] + cnn,'o-')\n",
    "# Plot legend and use the best location automatically: loc = 0.\n",
    "ax.legend(['MYDNET'], loc = 0)\n",
    "ax.set_title('Validation Accuracy for Epoch')\n",
    "ax.set_xlabel('Epoch')\n",
    "ax.set_ylabel('acc')"
   ]
  }
 ],
 "metadata": {
  "accelerator": "GPU",
  "colab": {
   "name": "MYDNET_sin_Normalización.ipynb",
   "provenance": []
  },
  "kernelspec": {
   "display_name": "Python 3",
   "language": "python",
   "name": "python3"
  },
  "language_info": {
   "codemirror_mode": {
    "name": "ipython",
    "version": 3
   },
   "file_extension": ".py",
   "mimetype": "text/x-python",
   "name": "python",
   "nbconvert_exporter": "python",
   "pygments_lexer": "ipython3",
   "version": "3.7.4"
  }
 },
 "nbformat": 4,
 "nbformat_minor": 1
}
