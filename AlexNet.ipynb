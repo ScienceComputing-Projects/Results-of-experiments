{
 "cells": [
  {
   "cell_type": "markdown",
   "metadata": {},
   "source": [
    "#  <span style=\"color:BLUE\">IMPORTACIÓN DE LIBRERIAS</span>"
   ]
  },
  {
   "cell_type": "code",
   "execution_count": null,
   "metadata": {
    "colab": {},
    "colab_type": "code",
    "id": "Nk7L_gp03CXR"
   },
   "outputs": [],
   "source": [
    "import tarfile\n",
    "from tensorflow.keras.datasets import cifar10\n",
    "from tensorflow.keras.models import Sequential\n",
    "from tensorflow.keras.layers import Dense, Conv2D, MaxPool2D, Dropout, Flatten\n",
    "import matplotlib.pyplot as plt\n",
    "import numpy as np\n",
    "from time import time\n",
    "import tensorflow as tf\n",
    "from tensorflow.keras.models import Sequential\n",
    "from tensorflow.keras.layers import Dense,Flatten,Conv2D,Conv3D,MaxPool2D\n",
    "from tensorflow.keras.optimizers import SGD\n",
    "from tensorflow.keras.utils import to_categorical\n",
    "from tensorflow.keras.callbacks import CSVLogger\n",
    "import matplotlib.pyplot as plt\n",
    "import numpy as np\n",
    "import matplotlib.pyplot as plt"
   ]
  },
  {
   "cell_type": "markdown",
   "metadata": {},
   "source": [
    "#  <span style=\"color:BLUE\">CARGA DEL DATASET (50000K DE IMÁGENES)</span>"
   ]
  },
  {
   "cell_type": "code",
   "execution_count": null,
   "metadata": {
    "colab": {
     "base_uri": "https://localhost:8080/",
     "height": 51
    },
    "colab_type": "code",
    "id": "kaamDtiT3D3e",
    "outputId": "05f282a9-0314-4b05-a946-abdc7030c0c9"
   },
   "outputs": [
    {
     "name": "stdout",
     "output_type": "stream",
     "text": [
      "Downloading data from https://www.cs.toronto.edu/~kriz/cifar-10-python.tar.gz\n",
      "170500096/170498071 [==============================] - 4s 0us/step\n"
     ]
    }
   ],
   "source": [
    "(x_train, y_train), (x_test, y_test) = cifar10.load_data()\n",
    "# Set numeric type to float32 from uint8\n",
    "#x_train = x_train.astype('float32')\n",
    "#x_test = x_test.astype('float32')\n",
    "#x_train /= 255\n",
    "#x_test /= 255\n",
    "\n"
   ]
  },
  {
   "cell_type": "markdown",
   "metadata": {},
   "source": [
    "#  <span style=\"color:BLUE\">NORMALIZACIÓN DEL DATASET (MEAN)</span>"
   ]
  },
  {
   "cell_type": "code",
   "execution_count": null,
   "metadata": {
    "colab": {},
    "colab_type": "code",
    "id": "kGqyP4ecaN-f"
   },
   "outputs": [],
   "source": [
    "mean=np.mean(x_train, axis=(0,1,2,3))\n",
    "std=np.std(x_train, axis=(0,1,2,3))\n",
    "x_train =(x_train)/(std+1e-7)\n",
    "x_test =(x_test)/(std+1e-7)"
   ]
  },
  {
   "cell_type": "markdown",
   "metadata": {
    "colab": {},
    "colab_type": "code",
    "id": "LzrTT8tFV7pR"
   },
   "source": [
    "#  <span style=\"color:BLUE\">CREACIÓN DEL MODELO</span>\n"
   ]
  },
  {
   "cell_type": "code",
   "execution_count": null,
   "metadata": {
    "colab": {},
    "colab_type": "code",
    "id": "hg7DE9GC3LPN"
   },
   "outputs": [],
   "source": [
    "# except Exception as e:\n",
    "model = Sequential()\n",
    "\n",
    "#Layer 1 \n",
    "model.add( Conv2D(48, kernel_size=(3,3),strides=(1,1), activation='relu', padding='same', input_shape=x_train.shape[1:] ) )\n",
    "model.add( MaxPool2D(pool_size=(2,2),strides=(2,2)) )\n",
    "\n",
    "#Layer 2\n",
    "model.add( Conv2D(96, kernel_size=(3,3), activation='relu', padding='same') )\n",
    "model.add( MaxPool2D(pool_size=(2,2),strides=(2,2)) )\n",
    "\n",
    "#Layer 3\n",
    "model.add( Conv2D(192, kernel_size=(3,3), activation='relu', padding='same') )\n",
    "\n",
    "\n",
    "#Layer 4\n",
    "model.add( Conv2D(192, kernel_size=(3,3), activation='relu', padding='same') )\n",
    "model.add( MaxPool2D(pool_size=(2,2),strides=(2,2)) )\n",
    "\n",
    "#Layer 5\n",
    "model.add( Conv2D(256, kernel_size=(3,3), activation='relu', padding='same') )\n",
    "model.add( MaxPool2D(pool_size=(2,2),strides=(2,2)) )\n",
    "\n",
    "model.add(Flatten())\n",
    "\n",
    "#Layer 6\n",
    "model.add(Dense(512, activation='tanh'))\n",
    "\n",
    "#Layer 7 \n",
    "model.add(Dense(256, activation='tanh'))\n",
    "\n",
    "#Prediction\n",
    "model.add(Dense(10, activation='softmax'))\n",
    "\n",
    "model.compile(loss='sparse_categorical_crossentropy',\n",
    "              optimizer='adam',\n",
    "              metrics=['accuracy'])"
   ]
  },
  {
   "cell_type": "markdown",
   "metadata": {},
   "source": [
    "#  <span style=\"color:BLUE\">ENTRENAMIENTO DEL MODELO</span>"
   ]
  },
  {
   "cell_type": "code",
   "execution_count": null,
   "metadata": {
    "colab": {
     "base_uri": "https://localhost:8080/",
     "height": 374
    },
    "colab_type": "code",
    "id": "VMblh99h4O5k",
    "outputId": "e705d9bf-3e3f-4fd9-a2f3-9ea99e4429a6"
   },
   "outputs": [
    {
     "name": "stdout",
     "output_type": "stream",
     "text": [
      "Epoch 1/10\n",
      "391/391 [==============================] - 6s 14ms/step - loss: 1.5593 - accuracy: 0.4208 - val_loss: 1.3181 - val_accuracy: 0.5330\n",
      "Epoch 2/10\n",
      "391/391 [==============================] - 5s 13ms/step - loss: 1.0217 - accuracy: 0.6338 - val_loss: 0.9175 - val_accuracy: 0.6796\n",
      "Epoch 3/10\n",
      "391/391 [==============================] - 5s 13ms/step - loss: 0.8196 - accuracy: 0.7116 - val_loss: 0.7896 - val_accuracy: 0.7277\n",
      "Epoch 4/10\n",
      "391/391 [==============================] - 5s 13ms/step - loss: 0.6679 - accuracy: 0.7653 - val_loss: 0.7902 - val_accuracy: 0.7267\n",
      "Epoch 5/10\n",
      "391/391 [==============================] - 5s 13ms/step - loss: 0.5578 - accuracy: 0.8046 - val_loss: 0.7411 - val_accuracy: 0.7498\n",
      "Epoch 6/10\n",
      "391/391 [==============================] - 5s 13ms/step - loss: 0.4694 - accuracy: 0.8360 - val_loss: 0.8147 - val_accuracy: 0.7385\n",
      "Epoch 7/10\n",
      "391/391 [==============================] - 5s 13ms/step - loss: 0.3954 - accuracy: 0.8615 - val_loss: 0.8567 - val_accuracy: 0.7437\n",
      "Epoch 8/10\n",
      "391/391 [==============================] - 5s 13ms/step - loss: 0.3247 - accuracy: 0.8848 - val_loss: 0.9118 - val_accuracy: 0.7405\n",
      "Epoch 9/10\n",
      "391/391 [==============================] - 5s 13ms/step - loss: 0.2733 - accuracy: 0.9035 - val_loss: 0.9784 - val_accuracy: 0.7366\n",
      "Epoch 10/10\n",
      "391/391 [==============================] - 5s 13ms/step - loss: 0.2237 - accuracy: 0.9206 - val_loss: 0.9614 - val_accuracy: 0.7511\n",
      "Elapsed time: 59.0608506203 seconds.\n"
     ]
    }
   ],
   "source": [
    "start_time = time()\n",
    "history = model.fit(x_train, y_train, batch_size= 128, epochs=10 , validation_data=(x_test, y_test), verbose=1)\n",
    "elapsed_time = time() - start_time\n",
    "print(\"Elapsed time: %.10f seconds.\" % elapsed_time)"
   ]
  },
  {
   "cell_type": "markdown",
   "metadata": {},
   "source": [
    "#  <span style=\"color:BLUE\">RESULTADOS DE LA EVALUACIÓN</span>"
   ]
  },
  {
   "cell_type": "code",
   "execution_count": null,
   "metadata": {
    "colab": {
     "base_uri": "https://localhost:8080/",
     "height": 51
    },
    "colab_type": "code",
    "id": "jvRmjOHn4S9i",
    "outputId": "5c983054-2100-41da-e83d-b40caba1863e"
   },
   "outputs": [
    {
     "name": "stdout",
     "output_type": "stream",
     "text": [
      "313/313 [==============================] - 1s 3ms/step - loss: 0.9614 - accuracy: 0.7511\n",
      "Test loss 0.9614, accuracy 75.11%\n"
     ]
    }
   ],
   "source": [
    "test_score = model.evaluate(x_test, y_test)\n",
    "print('Test loss {:.4f}, accuracy {:.2f}%'.format(test_score[0], test_score[1] * 100))"
   ]
  },
  {
   "cell_type": "markdown",
   "metadata": {},
   "source": [
    "#  <span style=\"color:BLUE\">GRÁFICA DE LA EVALUACIÓN Y ENTRENAMIENTO ACC</span>"
   ]
  },
  {
   "cell_type": "code",
   "execution_count": null,
   "metadata": {
    "colab": {
     "base_uri": "https://localhost:8080/",
     "height": 349
    },
    "colab_type": "code",
    "id": "yww61Edl4WXQ",
    "outputId": "dcb59df2-a584-4813-fb50-3b91f3351202"
   },
   "outputs": [
    {
     "name": "stdout",
     "output_type": "stream",
     "text": [
      "[0.5329999923706055, 0.6796000003814697, 0.7276999950408936, 0.7267000079154968, 0.7498000264167786, 0.7384999990463257, 0.7437000274658203, 0.7404999732971191, 0.7365999817848206, 0.7511000037193298]\n"
     ]
    },
    {
     "data": {
      "text/plain": [
       "Text(0, 0.5, 'acc')"
      ]
     },
     "execution_count": 8,
     "metadata": {
      "tags": []
     },
     "output_type": "execute_result"
    },
    {
     "data": {
      "image/png": "[encoded data removed]",
      "text/plain": [
       "<Figure size 432x288 with 1 Axes>"
      ]
     },
     "metadata": {
      "needs_background": "light",
      "tags": []
     },
     "output_type": "display_data"
    }
   ],
   "source": [
    "f, ax = plt.subplots()\n",
    "print(history.history['val_accuracy'])\n",
    "ax.plot([None] + history.history['accuracy'], 'o-')\n",
    "ax.plot([None] + history.history['val_accuracy'],'x-')\n",
    "# Plot legend and use the best location automatically: loc = 0.\n",
    "ax.legend(['Train acc', 'Validation acc'], loc = 0)\n",
    "ax.set_title('Training/Validation acc por Epoch')\n",
    "ax.set_xlabel('Epoch')\n",
    "ax.set_ylabel('acc')"
   ]
  },
  {
   "cell_type": "code",
   "execution_count": null,
   "metadata": {
    "colab": {
     "base_uri": "https://localhost:8080/",
     "height": 312
    },
    "colab_type": "code",
    "id": "TT7ePjLe4Zoc",
    "outputId": "8fae6956-a918-4125-e323-b1f154ab242c"
   },
   "outputs": [
    {
     "data": {
      "text/plain": [
       "Text(0, 0.5, 'Loss')"
      ]
     },
     "execution_count": 9,
     "metadata": {
      "tags": []
     },
     "output_type": "execute_result"
    },
    {
     "data": {
      "image/png": "[encoded data removed]",
      "text/plain": [
       "<Figure size 432x288 with 1 Axes>"
      ]
     },
     "metadata": {
      "needs_background": "light",
      "tags": []
     },
     "output_type": "display_data"
    }
   ],
   "source": [
    "f, ax = plt.subplots()\n",
    "ax.plot([None] + history.history['loss'], 'o-')\n",
    "ax.plot([None] + history.history['val_loss'], 'x-')\n",
    "# Plot legend and use the best location automatically: loc = 0.\n",
    "ax.legend(['Train Loss', 'Validation Loss'], loc = 0)\n",
    "ax.set_title('Training/Validation Loss por Epoch')\n",
    "ax.set_xlabel('Epoch')\n",
    "ax.set_ylabel('Loss')"
   ]
  }
 ],
 "metadata": {
  "accelerator": "GPU",
  "colab": {
   "collapsed_sections": [],
   "name": "AlexNet",
   "provenance": []
  },
  "kernelspec": {
   "display_name": "Python 3",
   "language": "python",
   "name": "python3"
  },
  "language_info": {
   "codemirror_mode": {
    "name": "ipython",
    "version": 3
   },
   "file_extension": ".py",
   "mimetype": "text/x-python",
   "name": "python",
   "nbconvert_exporter": "python",
   "pygments_lexer": "ipython3",
   "version": "3.7.6"
  }
 },
 "nbformat": 4,
 "nbformat_minor": 1
}
