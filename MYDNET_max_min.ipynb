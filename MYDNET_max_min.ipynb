{
 "cells": [
  {
   "cell_type": "markdown",
   "metadata": {
    "colab_type": "text",
    "id": "hFLfLIW9mugv"
   },
   "source": [
    "#  <span style=\"color:BLUE\">IMPORTACIÓN DE LIBRERIAS</span>"
   ]
  },
  {
   "cell_type": "code",
   "execution_count": 1,
   "metadata": {
    "colab": {},
    "colab_type": "code",
    "id": "hhMkC1vqmugw"
   },
   "outputs": [],
   "source": [
    "import tarfile\n",
    "from tensorflow.keras.datasets import cifar10\n",
    "from tensorflow.keras.models import Sequential\n",
    "from tensorflow.keras.layers import Dense, Conv2D, MaxPooling2D, Dropout, Flatten\n",
    "import matplotlib.pyplot as plt\n",
    "import numpy as np\n",
    "from time import time"
   ]
  },
  {
   "cell_type": "markdown",
   "metadata": {
    "colab_type": "text",
    "id": "EIAis07wmug3"
   },
   "source": [
    "#  <span style=\"color:BLUE\">CARGA DEL DATASET (50000K DE IMÁGENES)</span>\n",
    "\n",
    "\n"
   ]
  },
  {
   "cell_type": "code",
   "execution_count": 2,
   "metadata": {
    "colab": {
     "base_uri": "https://localhost:8080/",
     "height": 51
    },
    "colab_type": "code",
    "id": "oaETcvLGmug4",
    "outputId": "dc8a95f6-ce99-4ada-be89-01c701c1acf6"
   },
   "outputs": [
    {
     "name": "stdout",
     "output_type": "stream",
     "text": [
      "Downloading data from https://www.cs.toronto.edu/~kriz/cifar-10-python.tar.gz\n",
      "170500096/170498071 [==============================] - 2s 0us/step\n"
     ]
    }
   ],
   "source": [
    "(x_train, y_train), (x_test, y_test) = cifar10.load_data()\n",
    "\n"
   ]
  },
  {
   "cell_type": "code",
   "execution_count": 2,
   "metadata": {
    "colab": {},
    "colab_type": "code",
    "id": "3h_hU2hCLUFs"
   },
   "outputs": [],
   "source": []
  },
  {
   "cell_type": "code",
   "execution_count": 2,
   "metadata": {
    "colab": {},
    "colab_type": "code",
    "id": "SFsBxqjgyS7C"
   },
   "outputs": [],
   "source": []
  },
  {
   "cell_type": "markdown",
   "metadata": {
    "colab_type": "text",
    "id": "yQ1OMPsOmug-"
   },
   "source": [
    "#  <span style=\"color:BLUE\">NORMALIZACIÓN DEL DATASET (MAX-MIN)</span>"
   ]
  },
  {
   "cell_type": "code",
   "execution_count": 3,
   "metadata": {
    "colab": {},
    "colab_type": "code",
    "id": "4V1dL0VSmug-"
   },
   "outputs": [],
   "source": [
    "def normalize(x):\n",
    "    min_val = np.min(x)\n",
    "    max_val = np.max(x)\n",
    "    x = (x-min_val) / (max_val-min_val)\n",
    "    return x\n",
    "\n",
    "x_train =normalize(x_train) \n",
    "x_test =normalize(x_test)\n"
   ]
  },
  {
   "cell_type": "markdown",
   "metadata": {
    "colab_type": "text",
    "id": "hsBrnlsqmuhB"
   },
   "source": [
    "#  <span style=\"color:BLUE\">CREACIÓN DEL MODELO</span>"
   ]
  },
  {
   "cell_type": "code",
   "execution_count": 4,
   "metadata": {
    "colab": {},
    "colab_type": "code",
    "id": "PZmocc_ImuhB"
   },
   "outputs": [],
   "source": [
    "model = Sequential()\n",
    "model.add(Conv2D(32, (3, 3), padding='same', activation='relu', input_shape = x_train.shape[1:]))\n",
    "model.add(Conv2D(32, (3, 3), activation='relu'))\n",
    "model.add(MaxPooling2D(pool_size=(2, 2)))\n",
    "model.add(Dropout(0.25))\n",
    "\n",
    "model.add(Conv2D(64, (3, 3), padding='same', activation='relu'))\n",
    "model.add(Conv2D(64, (3, 3), activation='relu'))\n",
    "model.add(MaxPooling2D(pool_size=(2, 2)))\n",
    "model.add(Dropout(0.25))\n",
    "\n",
    "model.add(Conv2D(64, (3, 3), padding='same', activation='relu'))\n",
    "model.add(Conv2D(64, (3, 3), activation='relu'))\n",
    "model.add(MaxPooling2D(pool_size=(2, 2)))\n",
    "model.add(Dropout(0.25))\n",
    "\n",
    "model.add(Flatten())\n",
    "model.add(Dense(512, activation='relu'))\n",
    "model.add(Dropout(0.5))\n",
    "model.add(Dense(10, activation='softmax'))\n",
    "\n",
    "model.compile(loss='sparse_categorical_crossentropy',\n",
    "              optimizer='adam',\n",
    "              metrics=['accuracy'])"
   ]
  },
  {
   "cell_type": "markdown",
   "metadata": {
    "colab_type": "text",
    "id": "U0ssFmsLmuhF"
   },
   "source": [
    "#  <span style=\"color:BLUE\">ENTRENAMIENTO DEL MODELO</span>"
   ]
  },
  {
   "cell_type": "code",
   "execution_count": 5,
   "metadata": {
    "colab": {
     "base_uri": "https://localhost:8080/",
     "height": 394
    },
    "colab_type": "code",
    "id": "mDkKmP1wmuhH",
    "outputId": "a2edad06-421c-41cb-9b6f-91402c001ccc"
   },
   "outputs": [
    {
     "name": "stdout",
     "output_type": "stream",
     "text": [
      "Epoch 1/10\n",
      "391/391 [==============================] - 11s 28ms/step - loss: 1.8051 - accuracy: 0.3051 - val_loss: 1.4812 - val_accuracy: 0.4552\n",
      "Epoch 2/10\n",
      "391/391 [==============================] - 10s 26ms/step - loss: 1.3727 - accuracy: 0.4970 - val_loss: 1.1790 - val_accuracy: 0.5748\n",
      "Epoch 3/10\n",
      "391/391 [==============================] - 10s 26ms/step - loss: 1.1723 - accuracy: 0.5809 - val_loss: 1.0015 - val_accuracy: 0.6384\n",
      "Epoch 4/10\n",
      "391/391 [==============================] - 10s 26ms/step - loss: 1.0391 - accuracy: 0.6308 - val_loss: 0.9287 - val_accuracy: 0.6681\n",
      "Epoch 5/10\n",
      "391/391 [==============================] - 10s 26ms/step - loss: 0.9556 - accuracy: 0.6606 - val_loss: 0.8471 - val_accuracy: 0.7011\n",
      "Epoch 6/10\n",
      "391/391 [==============================] - 10s 26ms/step - loss: 0.8876 - accuracy: 0.6871 - val_loss: 0.8040 - val_accuracy: 0.7149\n",
      "Epoch 7/10\n",
      "391/391 [==============================] - 10s 27ms/step - loss: 0.8333 - accuracy: 0.7085 - val_loss: 0.7595 - val_accuracy: 0.7328\n",
      "Epoch 8/10\n",
      "391/391 [==============================] - 11s 27ms/step - loss: 0.7962 - accuracy: 0.7189 - val_loss: 0.7329 - val_accuracy: 0.7458\n",
      "Epoch 9/10\n",
      "391/391 [==============================] - 10s 27ms/step - loss: 0.7534 - accuracy: 0.7354 - val_loss: 0.7136 - val_accuracy: 0.7540\n",
      "Epoch 10/10\n",
      "391/391 [==============================] - 10s 26ms/step - loss: 0.7283 - accuracy: 0.7446 - val_loss: 0.6857 - val_accuracy: 0.7619\n",
      "Elapsed time: 111.4028611183 seconds.\n"
     ]
    }
   ],
   "source": [
    "start_time = time()\n",
    "history = model.fit(x_train, y_train, batch_size= 128, epochs=10 , validation_data=(x_test, y_test), verbose=1)\n",
    "elapsed_time = time() - start_time\n",
    "print(\"Elapsed time: %.10f seconds.\" % elapsed_time)"
   ]
  },
  {
   "cell_type": "markdown",
   "metadata": {
    "colab_type": "text",
    "id": "NBx74xg_muhK"
   },
   "source": [
    "#  <span style=\"color:BLUE\">RESULTADOS DE LA EVALUACIÓN</span>"
   ]
  },
  {
   "cell_type": "code",
   "execution_count": 6,
   "metadata": {
    "colab": {
     "base_uri": "https://localhost:8080/",
     "height": 71
    },
    "colab_type": "code",
    "id": "IEIpKH6pmuhL",
    "outputId": "857753e9-bcea-4aef-88f4-4d2c6e118789"
   },
   "outputs": [
    {
     "name": "stdout",
     "output_type": "stream",
     "text": [
      "313/313 [==============================] - 2s 6ms/step - loss: 0.6857 - accuracy: 0.7619\n",
      "Test loss 0.6857, accuracy 76.19%\n"
     ]
    }
   ],
   "source": [
    "test_score = model.evaluate(x_test, y_test)\n",
    "print('Test loss {:.4f}, accuracy {:.2f}%'.format(test_score[0], test_score[1] * 100))"
   ]
  },
  {
   "cell_type": "markdown",
   "metadata": {
    "colab_type": "text",
    "id": "DZlBp00lmuhS"
   },
   "source": [
    "#  <span style=\"color:BLUE\">GRÁFICA DE LA EVALUACIÓN Y ENTRENAMIENTO ACC</span>"
   ]
  },
  {
   "cell_type": "code",
   "execution_count": 7,
   "metadata": {
    "colab": {
     "base_uri": "https://localhost:8080/",
     "height": 312
    },
    "colab_type": "code",
    "id": "66XqS_3nmuhT",
    "outputId": "f46b73f2-0ef9-4f6c-90b2-f83f1c2bfd79"
   },
   "outputs": [
    {
     "data": {
      "text/plain": [
       "Text(0, 0.5, 'acc')"
      ]
     },
     "execution_count": 7,
     "metadata": {
      "tags": []
     },
     "output_type": "execute_result"
    },
    {
     "data": {
      "image/png": "[encoded data removed]",
      "text/plain": [
       "<Figure size 432x288 with 1 Axes>"
      ]
     },
     "metadata": {
      "needs_background": "light",
      "tags": []
     },
     "output_type": "display_data"
    }
   ],
   "source": [
    "import matplotlib.pyplot as plt\n",
    "f, ax = plt.subplots()\n",
    "ax.plot([None] + history.history['accuracy'], 'o-')\n",
    "ax.plot([None] + history.history['val_accuracy'],'x-')\n",
    "# Plot legend and use the best location automatically: loc = 0.\n",
    "ax.legend(['Train acc', 'Validation acc'], loc = 0)\n",
    "ax.set_title('Training/Validation acc por Epoch')\n",
    "ax.set_xlabel('Epoch')\n",
    "ax.set_ylabel('acc')"
   ]
  },
  {
   "cell_type": "markdown",
   "metadata": {
    "colab_type": "text",
    "id": "HNkj4_FJmuhW"
   },
   "source": [
    "#  <span style=\"color:BLUE\">GRÁFICA DE LA EVALUACIÓN Y ENTRENAMIENTO LOSS</span>"
   ]
  },
  {
   "cell_type": "code",
   "execution_count": 8,
   "metadata": {
    "colab": {
     "base_uri": "https://localhost:8080/",
     "height": 312
    },
    "colab_type": "code",
    "id": "dKLmed-cmuhX",
    "outputId": "9a314210-f754-4842-fd16-2015a747e10b"
   },
   "outputs": [
    {
     "data": {
      "text/plain": [
       "Text(0, 0.5, 'Loss')"
      ]
     },
     "execution_count": 8,
     "metadata": {
      "tags": []
     },
     "output_type": "execute_result"
    },
    {
     "data": {
      "image/png": "[encoded data removed]",
      "text/plain": [
       "<Figure size 432x288 with 1 Axes>"
      ]
     },
     "metadata": {
      "needs_background": "light",
      "tags": []
     },
     "output_type": "display_data"
    }
   ],
   "source": [
    "import matplotlib.pyplot as plt\n",
    "f, ax = plt.subplots()\n",
    "ax.plot([None] + history.history['loss'], 'o-')\n",
    "ax.plot([None] + history.history['val_loss'], 'x-')\n",
    "# Plot legend and use the best location automatically: loc = 0.\n",
    "ax.legend(['Train Loss', 'Validation Loss'], loc = 0)\n",
    "ax.set_title('Training/Validation Loss por Epoch')\n",
    "ax.set_xlabel('Epoch')\n",
    "ax.set_ylabel('Loss')"
   ]
  }
 ],
 "metadata": {
  "accelerator": "GPU",
  "colab": {
   "name": "CNN_max-min",
   "provenance": []
  },
  "kernelspec": {
   "display_name": "Python 3",
   "language": "python",
   "name": "python3"
  },
  "language_info": {
   "codemirror_mode": {
    "name": "ipython",
    "version": 3
   },
   "file_extension": ".py",
   "mimetype": "text/x-python",
   "name": "python",
   "nbconvert_exporter": "python",
   "pygments_lexer": "ipython3",
   "version": "3.7.7"
  }
 },
 "nbformat": 4,
 "nbformat_minor": 1
}
