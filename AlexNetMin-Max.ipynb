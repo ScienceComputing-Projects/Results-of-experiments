{
 "cells": [
  {
   "cell_type": "markdown",
   "metadata": {},
   "source": [
    "#  <span style=\"color:BLUE\">IMPORTACIÓN DE LIBRERIAS</span>"
   ]
  },
  {
   "cell_type": "code",
   "execution_count": 1,
   "metadata": {
    "colab": {},
    "colab_type": "code",
    "id": "ePb--tUxwdtY"
   },
   "outputs": [],
   "source": [
    "import tarfile\n",
    "from tensorflow.keras.datasets import cifar10\n",
    "from tensorflow.keras.models import Sequential\n",
    "from tensorflow.keras.layers import Dense, Conv2D, MaxPool2D, Dropout, Flatten\n",
    "import matplotlib.pyplot as plt\n",
    "import numpy as np\n",
    "from time import time \n",
    "import tensorflow as tf\n",
    "from tensorflow.keras.models import Sequential\n",
    "from tensorflow.keras.layers import Dense,Flatten,Conv2D,Conv3D,MaxPool2D\n",
    "from tensorflow.keras.optimizers import SGD\n",
    "from tensorflow.keras.utils import to_categorical\n",
    "from tensorflow.keras.callbacks import CSVLogger\n",
    "import matplotlib.pyplot as plt\n",
    "import numpy as np"
   ]
  },
  {
   "cell_type": "markdown",
   "metadata": {},
   "source": [
    "#  <span style=\"color:BLUE\">CARGA DEL DATASET (50000K DE IMÁGENES) Y NORMALIZACIÓN (MIN_MAX)</span>"
   ]
  },
  {
   "cell_type": "code",
   "execution_count": 2,
   "metadata": {
    "colab": {},
    "colab_type": "code",
    "id": "Q8O_tdjuxkAV"
   },
   "outputs": [],
   "source": [
    "(x_train, y_train), (x_test, y_test) = cifar10.load_data()\n",
    "def normalize(x):\n",
    "    min_val = np.min(x)\n",
    "    max_val = np.max(x)\n",
    "    x = (x-min_val) / (max_val-min_val)\n",
    "    return x\n",
    "\n",
    "x_train =normalize(x_train) \n",
    "x_test =normalize(x_test)"
   ]
  },
  {
   "cell_type": "markdown",
   "metadata": {},
   "source": [
    "#  <span style=\"color:BLUE\">CREACIÓN DEL MODELO</span>"
   ]
  },
  {
   "cell_type": "code",
   "execution_count": 3,
   "metadata": {
    "colab": {},
    "colab_type": "code",
    "id": "mzQk8wSQx5Pm"
   },
   "outputs": [],
   "source": [
    "# except Exception as e:\n",
    "model = Sequential()\n",
    "\n",
    "#Layer 1 \n",
    "model.add( Conv2D(48, kernel_size=(3,3),strides=(1,1), activation='relu', padding='same', input_shape=x_train.shape[1:] ) )\n",
    "model.add( MaxPool2D(pool_size=(2,2),strides=(2,2)) )\n",
    "\n",
    "#Layer 2\n",
    "model.add( Conv2D(96, kernel_size=(3,3), activation='relu', padding='same') )\n",
    "model.add( MaxPool2D(pool_size=(2,2),strides=(2,2)) )\n",
    "\n",
    "#Layer 3\n",
    "model.add( Conv2D(192, kernel_size=(3,3), activation='relu', padding='same') )\n",
    "\n",
    "\n",
    "#Layer 4\n",
    "model.add( Conv2D(192, kernel_size=(3,3), activation='relu', padding='same') )\n",
    "model.add( MaxPool2D(pool_size=(2,2),strides=(2,2)) )\n",
    "\n",
    "#Layer 5\n",
    "model.add( Conv2D(256, kernel_size=(3,3), activation='relu', padding='same') )\n",
    "model.add( MaxPool2D(pool_size=(2,2),strides=(2,2)) )\n",
    "\n",
    "model.add(Flatten())\n",
    "\n",
    "#Layer 6\n",
    "model.add(Dense(512, activation='tanh'))\n",
    "\n",
    "#Layer 7 \n",
    "model.add(Dense(256, activation='tanh'))\n",
    "\n",
    "#Prediction\n",
    "model.add(Dense(10, activation='softmax'))\n",
    "\n",
    "model.compile(loss='sparse_categorical_crossentropy',\n",
    "              optimizer='adam',\n",
    "              metrics=['accuracy'])"
   ]
  },
  {
   "cell_type": "markdown",
   "metadata": {},
   "source": [
    "#  <span style=\"color:BLUE\">ENTRENAMIENTO DEL MODELO</span>"
   ]
  },
  {
   "cell_type": "code",
   "execution_count": 4,
   "metadata": {
    "colab": {},
    "colab_type": "code",
    "id": "pXz9yvK8yI3j"
   },
   "outputs": [
    {
     "name": "stdout",
     "output_type": "stream",
     "text": [
      "Train on 50000 samples, validate on 10000 samples\n",
      "Epoch 1/10\n",
      "50000/50000 [==============================] - 132s 3ms/sample - loss: 1.5497 - accuracy: 0.4243 - val_loss: 1.1427 - val_accuracy: 0.5879\n",
      "Epoch 2/10\n",
      "50000/50000 [==============================] - 128s 3ms/sample - loss: 1.0368 - accuracy: 0.6291 - val_loss: 0.9627 - val_accuracy: 0.6616\n",
      "Epoch 3/10\n",
      "50000/50000 [==============================] - 123s 2ms/sample - loss: 0.8149 - accuracy: 0.7121 - val_loss: 0.8399 - val_accuracy: 0.7114\n",
      "Epoch 4/10\n",
      "50000/50000 [==============================] - 119s 2ms/sample - loss: 0.6679 - accuracy: 0.7629 - val_loss: 0.7925 - val_accuracy: 0.7329\n",
      "Epoch 5/10\n",
      "50000/50000 [==============================] - 117s 2ms/sample - loss: 0.5528 - accuracy: 0.8061 - val_loss: 0.7442 - val_accuracy: 0.7485\n",
      "Epoch 6/10\n",
      "50000/50000 [==============================] - 132s 3ms/sample - loss: 0.4575 - accuracy: 0.8394 - val_loss: 0.7578 - val_accuracy: 0.7509\n",
      "Epoch 7/10\n",
      "50000/50000 [==============================] - 132s 3ms/sample - loss: 0.3778 - accuracy: 0.8658 - val_loss: 0.7989 - val_accuracy: 0.7502\n",
      "Epoch 8/10\n",
      "50000/50000 [==============================] - 129s 3ms/sample - loss: 0.3024 - accuracy: 0.8931 - val_loss: 0.8287 - val_accuracy: 0.7569\n",
      "Epoch 9/10\n",
      "50000/50000 [==============================] - 126s 3ms/sample - loss: 0.2528 - accuracy: 0.9111 - val_loss: 1.0007 - val_accuracy: 0.7232\n",
      "Epoch 10/10\n",
      "50000/50000 [==============================] - 131s 3ms/sample - loss: 0.2025 - accuracy: 0.9282 - val_loss: 1.0123 - val_accuracy: 0.7402\n",
      "Elapsed time: 1269.8965179920 seconds.\n"
     ]
    }
   ],
   "source": [
    "start_time = time()\n",
    "history = model.fit(x_train, y_train, batch_size= 128, epochs=10 , validation_data=(x_test, y_test), verbose=1)\n",
    "elapsed_time = time() - start_time\n",
    "print(\"Elapsed time: %.10f seconds.\" % elapsed_time)"
   ]
  },
  {
   "cell_type": "markdown",
   "metadata": {},
   "source": [
    "#  <span style=\"color:BLUE\">RESULTADOS DE LA EVALUACIÓN</span>"
   ]
  },
  {
   "cell_type": "code",
   "execution_count": 5,
   "metadata": {
    "colab": {},
    "colab_type": "code",
    "id": "kdgOeFIqyOxc"
   },
   "outputs": [
    {
     "name": "stdout",
     "output_type": "stream",
     "text": [
      "10000/10000 [==============================] - 7s 746us/sample - loss: 1.0123 - accuracy: 0.7402\n",
      "Test loss 1.0123, accuracy 74.02%\n"
     ]
    }
   ],
   "source": [
    "test_score = model.evaluate(x_test, y_test)\n",
    "print('Test loss {:.4f}, accuracy {:.2f}%'.format(test_score[0], test_score[1] * 100))"
   ]
  },
  {
   "cell_type": "markdown",
   "metadata": {},
   "source": [
    "#  <span style=\"color:BLUE\">GRÁFICA DE LA EVALUACIÓN Y ENTRENAMIENTO ACC</span>"
   ]
  },
  {
   "cell_type": "code",
   "execution_count": 6,
   "metadata": {
    "colab": {},
    "colab_type": "code",
    "id": "b47dxS4ByVtz"
   },
   "outputs": [
    {
     "name": "stdout",
     "output_type": "stream",
     "text": [
      "[0.5879, 0.6616, 0.7114, 0.7329, 0.7485, 0.7509, 0.7502, 0.7569, 0.7232, 0.7402]\n"
     ]
    },
    {
     "data": {
      "text/plain": [
       "Text(0, 0.5, 'acc')"
      ]
     },
     "execution_count": 6,
     "metadata": {},
     "output_type": "execute_result"
    },
    {
     "data": {
      "image/png": "[encoded data removed]",
      "text/plain": [
       "<Figure size 432x288 with 1 Axes>"
      ]
     },
     "metadata": {
      "needs_background": "light"
     },
     "output_type": "display_data"
    }
   ],
   "source": [
    "f, ax = plt.subplots()\n",
    "print(history.history['val_accuracy'])\n",
    "ax.plot([None] + history.history['accuracy'], 'o-')\n",
    "ax.plot([None] + history.history['val_accuracy'],'x-')\n",
    "# Plot legend and use the best location automatically: loc = 0.\n",
    "ax.legend(['Train acc', 'Validation acc'], loc = 0)\n",
    "ax.set_title('Training/Validation acc por Epoch')\n",
    "ax.set_xlabel('Epoch')\n",
    "ax.set_ylabel('acc')"
   ]
  },
  {
   "cell_type": "code",
   "execution_count": 7,
   "metadata": {
    "colab": {},
    "colab_type": "code",
    "id": "YcOYwwuTyYkS"
   },
   "outputs": [
    {
     "data": {
      "text/plain": [
       "Text(0, 0.5, 'Loss')"
      ]
     },
     "execution_count": 7,
     "metadata": {},
     "output_type": "execute_result"
    },
    {
     "data": {
      "image/png": "[encoded data removed]",
      "text/plain": [
       "<Figure size 432x288 with 1 Axes>"
      ]
     },
     "metadata": {
      "needs_background": "light"
     },
     "output_type": "display_data"
    }
   ],
   "source": [
    "f, ax = plt.subplots()\n",
    "ax.plot([None] + history.history['loss'], 'o-')\n",
    "ax.plot([None] + history.history['val_loss'], 'x-')\n",
    "# Plot legend and use the best location automatically: loc = 0.\n",
    "ax.legend(['Train Loss', 'Validation Loss'], loc = 0)\n",
    "ax.set_title('Training/Validation Loss por Epoch')\n",
    "ax.set_xlabel('Epoch')\n",
    "ax.set_ylabel('Loss')"
   ]
  }
 ],
 "metadata": {
  "colab": {
   "collapsed_sections": [],
   "name": "Untitled11.ipynb",
   "provenance": []
  },
  "kernelspec": {
   "display_name": "Python 3",
   "language": "python",
   "name": "python3"
  },
  "language_info": {
   "codemirror_mode": {
    "name": "ipython",
    "version": 3
   },
   "file_extension": ".py",
   "mimetype": "text/x-python",
   "name": "python",
   "nbconvert_exporter": "python",
   "pygments_lexer": "ipython3",
   "version": "3.6.10"
  }
 },
 "nbformat": 4,
 "nbformat_minor": 1
}
