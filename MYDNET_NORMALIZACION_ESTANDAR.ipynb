{
 "cells": [
  {
   "cell_type": "markdown",
   "metadata": {},
   "source": [
    "#  <span style=\"color:BLUE\">IMPORTACIÓN DE LIBRERIAS</span>"
   ]
  },
  {
   "cell_type": "code",
   "execution_count": 1,
   "metadata": {
    "colab": {},
    "colab_type": "code",
    "id": "uM4hIDanG0R-"
   },
   "outputs": [],
   "source": [
    "import tarfile\n",
    "from tensorflow.keras.datasets import cifar10\n",
    "from tensorflow.keras.models import Sequential\n",
    "from tensorflow.keras.layers import Dense, Conv2D, MaxPooling2D, Dropout, Flatten\n",
    "import matplotlib.pyplot as plt\n",
    "import numpy as np\n",
    "from time import time"
   ]
  },
  {
   "cell_type": "markdown",
   "metadata": {
    "colab_type": "text",
    "id": "RJyniZpMG-QL"
   },
   "source": [
    "#  <span style=\"color:BLUE\">CARGA DEL DATASET (3000K DE IMÁGENES)</span>\n",
    "\n"
   ]
  },
  {
   "cell_type": "code",
   "execution_count": 2,
   "metadata": {
    "colab": {
     "base_uri": "https://localhost:8080/",
     "height": 51
    },
    "colab_type": "code",
    "id": "i974HhGxG4vf",
    "outputId": "a14bde36-b6a7-40a4-9b79-210d6ccd3d44"
   },
   "outputs": [
    {
     "name": "stdout",
     "output_type": "stream",
     "text": [
      "Downloading data from https://www.cs.toronto.edu/~kriz/cifar-10-python.tar.gz\n",
      "170500096/170498071 [==============================] - 6s 0us/step\n"
     ]
    }
   ],
   "source": [
    "(x_train, y_train), (x_test, y_test) = cifar10.load_data()"
   ]
  },
  {
   "cell_type": "markdown",
   "metadata": {
    "colab_type": "text",
    "id": "Di2ocwAlHGPr"
   },
   "source": [
    "#  <span style=\"color:BLUE\">NORMALIZACIÓN ESTANDAR DEL DATASET</span>"
   ]
  },
  {
   "cell_type": "code",
   "execution_count": 3,
   "metadata": {
    "colab": {},
    "colab_type": "code",
    "id": "vKb6H4JQHEUx"
   },
   "outputs": [],
   "source": [
    "# Set numeric type to float32 from uint8\n",
    "x_train = x_train.astype('float32')\n",
    "x_test = x_test.astype('float32')\n",
    "x_train /= 255\n",
    "x_test /= 255"
   ]
  },
  {
   "cell_type": "markdown",
   "metadata": {},
   "source": [
    "#  <span style=\"color:BLUE\">CREACIÓN DEL MODELO</span>"
   ]
  },
  {
   "cell_type": "code",
   "execution_count": 4,
   "metadata": {
    "colab": {},
    "colab_type": "code",
    "id": "l-I040lnHRaT"
   },
   "outputs": [],
   "source": [
    "model = Sequential()\n",
    "model.add(Conv2D(32, (3, 3), padding='same', activation='relu', input_shape = x_train.shape[1:]))\n",
    "model.add(Conv2D(32, (3, 3), activation='relu'))\n",
    "model.add(MaxPooling2D(pool_size=(2, 2)))\n",
    "model.add(Dropout(0.25))\n",
    "\n",
    "model.add(Conv2D(64, (3, 3), padding='same', activation='relu'))\n",
    "model.add(Conv2D(64, (3, 3), activation='relu'))\n",
    "model.add(MaxPooling2D(pool_size=(2, 2)))\n",
    "model.add(Dropout(0.25))\n",
    "\n",
    "model.add(Conv2D(64, (3, 3), padding='same', activation='relu'))\n",
    "model.add(Conv2D(64, (3, 3), activation='relu'))\n",
    "model.add(MaxPooling2D(pool_size=(2, 2)))\n",
    "model.add(Dropout(0.25))\n",
    "\n",
    "model.add(Flatten())\n",
    "model.add(Dense(512, activation='relu'))\n",
    "model.add(Dropout(0.5))\n",
    "model.add(Dense(10, activation='softmax'))\n",
    "\n",
    "model.compile(loss='sparse_categorical_crossentropy',\n",
    "              optimizer='adam',\n",
    "              metrics=['accuracy'])"
   ]
  },
  {
   "cell_type": "markdown",
   "metadata": {},
   "source": [
    "#  <span style=\"color:BLUE\">ENTRENAMIENTO DEL MODELO</span>"
   ]
  },
  {
   "cell_type": "code",
   "execution_count": 5,
   "metadata": {
    "colab": {
     "base_uri": "https://localhost:8080/",
     "height": 394
    },
    "colab_type": "code",
    "id": "F6slpFBVHUwh",
    "outputId": "1149791d-0729-4d6c-fac2-37adbe291280"
   },
   "outputs": [
    {
     "name": "stdout",
     "output_type": "stream",
     "text": [
      "Epoch 1/10\n",
      "391/391 [==============================] - 4s 10ms/step - loss: 1.7945 - accuracy: 0.3256 - val_loss: 1.4327 - val_accuracy: 0.4770\n",
      "Epoch 2/10\n",
      "391/391 [==============================] - 3s 9ms/step - loss: 1.3292 - accuracy: 0.5155 - val_loss: 1.1309 - val_accuracy: 0.5954\n",
      "Epoch 3/10\n",
      "391/391 [==============================] - 3s 9ms/step - loss: 1.1483 - accuracy: 0.5885 - val_loss: 1.0514 - val_accuracy: 0.6255\n",
      "Epoch 4/10\n",
      "391/391 [==============================] - 3s 9ms/step - loss: 1.0323 - accuracy: 0.6339 - val_loss: 0.9727 - val_accuracy: 0.6573\n",
      "Epoch 5/10\n",
      "391/391 [==============================] - 3s 9ms/step - loss: 0.9416 - accuracy: 0.6657 - val_loss: 0.8269 - val_accuracy: 0.7116\n",
      "Epoch 6/10\n",
      "391/391 [==============================] - 3s 9ms/step - loss: 0.8689 - accuracy: 0.6919 - val_loss: 0.8409 - val_accuracy: 0.7083\n",
      "Epoch 7/10\n",
      "391/391 [==============================] - 3s 9ms/step - loss: 0.8212 - accuracy: 0.7114 - val_loss: 0.7282 - val_accuracy: 0.7474\n",
      "Epoch 8/10\n",
      "391/391 [==============================] - 3s 9ms/step - loss: 0.7822 - accuracy: 0.7246 - val_loss: 0.7297 - val_accuracy: 0.7475\n",
      "Epoch 9/10\n",
      "391/391 [==============================] - 3s 9ms/step - loss: 0.7483 - accuracy: 0.7378 - val_loss: 0.7143 - val_accuracy: 0.7512\n",
      "Epoch 10/10\n",
      "391/391 [==============================] - 3s 9ms/step - loss: 0.7110 - accuracy: 0.7512 - val_loss: 0.6871 - val_accuracy: 0.7632\n",
      "Elapsed time: 41.9924838543 seconds.\n"
     ]
    }
   ],
   "source": [
    "start_time = time()\n",
    "history = model.fit(x_train, y_train, batch_size= 128, epochs=10 , validation_data=(x_test, y_test), verbose=1)\n",
    "elapsed_time = time() - start_time\n",
    "print(\"Elapsed time: %.10f seconds.\" % elapsed_time)"
   ]
  },
  {
   "cell_type": "markdown",
   "metadata": {
    "colab": {},
    "colab_type": "code",
    "id": "f1rHbzp57FeP"
   },
   "source": [
    "#  <span style=\"color:BLUE\">RESULTADOS DE LA EVALUACIÓN</span>"
   ]
  },
  {
   "cell_type": "code",
   "execution_count": 6,
   "metadata": {
    "colab": {
     "base_uri": "https://localhost:8080/",
     "height": 71
    },
    "colab_type": "code",
    "id": "_URlHSpBHXOI",
    "outputId": "54e89ff8-080c-44ae-cf62-c80c6e5090b0"
   },
   "outputs": [
    {
     "name": "stdout",
     "output_type": "stream",
     "text": [
      "313/313 [==============================] - 1s 2ms/step - loss: 0.6871 - accuracy: 0.7632\n",
      "Test loss 0.6871, accuracy 76.32%\n"
     ]
    }
   ],
   "source": [
    "test_score = model.evaluate(x_test, y_test)\n",
    "print('Test loss {:.4f}, accuracy {:.2f}%'.format(test_score[0], test_score[1] * 100))"
   ]
  },
  {
   "cell_type": "markdown",
   "metadata": {},
   "source": [
    "#  <span style=\"color:BLUE\">GRÁFICA DE LA EVALUACIÓN Y ENTRENAMIENTO ACC</span>"
   ]
  },
  {
   "cell_type": "code",
   "execution_count": 7,
   "metadata": {
    "colab": {
     "base_uri": "https://localhost:8080/",
     "height": 312
    },
    "colab_type": "code",
    "id": "DM9HCMMwHb84",
    "outputId": "99cc76b7-4cb7-43ae-df19-f5482456b29f"
   },
   "outputs": [
    {
     "data": {
      "text/plain": [
       "Text(0, 0.5, 'acc')"
      ]
     },
     "execution_count": 7,
     "metadata": {
      "tags": []
     },
     "output_type": "execute_result"
    },
    {
     "data": {
      "image/png": "[encoded data removed]",
      "text/plain": [
       "<Figure size 432x288 with 1 Axes>"
      ]
     },
     "metadata": {
      "needs_background": "light",
      "tags": []
     },
     "output_type": "display_data"
    }
   ],
   "source": [
    "import matplotlib.pyplot as plt\n",
    "f, ax = plt.subplots()\n",
    "ax.plot([None] + history.history['accuracy'], 'o-')\n",
    "ax.plot([None] + history.history['val_accuracy'],'x-')\n",
    "# Plot legend and use the best location automatically: loc = 0.\n",
    "ax.legend(['Train acc', 'Validation acc'], loc = 0)\n",
    "ax.set_title('Training/Validation acc por Epoch')\n",
    "ax.set_xlabel('Epoch')\n",
    "ax.set_ylabel('acc')"
   ]
  },
  {
   "cell_type": "code",
   "execution_count": 8,
   "metadata": {
    "colab": {
     "base_uri": "https://localhost:8080/",
     "height": 312
    },
    "colab_type": "code",
    "id": "D0Z_bLqvHehL",
    "outputId": "c5d7aa2b-fbf4-4012-9fea-58c9c4a2b285"
   },
   "outputs": [
    {
     "data": {
      "text/plain": [
       "Text(0, 0.5, 'Loss')"
      ]
     },
     "execution_count": 8,
     "metadata": {
      "tags": []
     },
     "output_type": "execute_result"
    },
    {
     "data": {
      "image/png": "[encoded data removed]",
      "text/plain": [
       "<Figure size 432x288 with 1 Axes>"
      ]
     },
     "metadata": {
      "needs_background": "light",
      "tags": []
     },
     "output_type": "display_data"
    }
   ],
   "source": [
    "import matplotlib.pyplot as plt\n",
    "f, ax = plt.subplots()\n",
    "ax.plot([None] + history.history['loss'], 'o-')\n",
    "ax.plot([None] + history.history['val_loss'], 'x-')\n",
    "# Plot legend and use the best location automatically: loc = 0.\n",
    "ax.legend(['Train Loss', 'Validation Loss'], loc = 0)\n",
    "ax.set_title('Training/Validation Loss por Epoch')\n",
    "ax.set_xlabel('Epoch')\n",
    "ax.set_ylabel('Loss')"
   ]
  },
  {
   "cell_type": "code",
   "execution_count": 1,
   "metadata": {
    "colab": {
     "base_uri": "https://localhost:8080/",
     "height": 111
    },
    "colab_type": "code",
    "id": "Szr7W_ik7MRF",
    "outputId": "cf13befe-c0f7-4bb7-bb35-78e077c0272b"
   },
   "outputs": [
    {
     "data": {
      "text/html": [
       "<div>\n",
       "<style scoped>\n",
       "    .dataframe tbody tr th:only-of-type {\n",
       "        vertical-align: middle;\n",
       "    }\n",
       "\n",
       "    .dataframe tbody tr th {\n",
       "        vertical-align: top;\n",
       "    }\n",
       "\n",
       "    .dataframe thead th {\n",
       "        text-align: right;\n",
       "    }\n",
       "</style>\n",
       "<table border=\"1\" class=\"dataframe\">\n",
       "  <thead>\n",
       "    <tr style=\"text-align: right;\">\n",
       "      <th></th>\n",
       "      <th>CNN</th>\n",
       "      <th>MIN-MAX</th>\n",
       "      <th>MEAN</th>\n",
       "      <th>255</th>\n",
       "    </tr>\n",
       "  </thead>\n",
       "  <tbody>\n",
       "    <tr>\n",
       "      <th>0</th>\n",
       "      <td>LeNet-5</td>\n",
       "      <td>70.51</td>\n",
       "      <td>51.32</td>\n",
       "      <td>42.50</td>\n",
       "    </tr>\n",
       "    <tr>\n",
       "      <th>1</th>\n",
       "      <td>Estándar</td>\n",
       "      <td>111.40</td>\n",
       "      <td>54.12</td>\n",
       "      <td>41.99</td>\n",
       "    </tr>\n",
       "  </tbody>\n",
       "</table>\n",
       "</div>"
      ],
      "text/plain": [
       "        CNN  MIN-MAX   MEAN    255\n",
       "0   LeNet-5    70.51  51.32  42.50\n",
       "1  Estándar   111.40  54.12  41.99"
      ]
     },
     "execution_count": 1,
     "metadata": {
      "tags": []
     },
     "output_type": "execute_result"
    }
   ],
   "source": [
    "import pandas as pd\n",
    "tabla = pd.DataFrame(columns=('CNN','MIN-MAX', 'MEAN','255'))\n",
    "tabla.loc[len(tabla)]=['LeNet-5',70.51,51.32, 42.50] \n",
    "tabla.loc[len(tabla)]=['Estándar',111.40,54.12,41.99] \n",
    "tabla\n",
    "tabla.head()"
   ]
  },
  {
   "cell_type": "code",
   "execution_count": 11,
   "metadata": {
    "colab": {
     "base_uri": "https://localhost:8080/",
     "height": 111
    },
    "colab_type": "code",
    "id": "lxyluLYyaheK",
    "outputId": "96f2679b-283d-42bb-e6f4-f07c3c304c3f"
   },
   "outputs": [
    {
     "data": {
      "text/html": [
       "<div>\n",
       "<style scoped>\n",
       "    .dataframe tbody tr th:only-of-type {\n",
       "        vertical-align: middle;\n",
       "    }\n",
       "\n",
       "    .dataframe tbody tr th {\n",
       "        vertical-align: top;\n",
       "    }\n",
       "\n",
       "    .dataframe thead th {\n",
       "        text-align: right;\n",
       "    }\n",
       "</style>\n",
       "<table border=\"1\" class=\"dataframe\">\n",
       "  <thead>\n",
       "    <tr style=\"text-align: right;\">\n",
       "      <th></th>\n",
       "      <th>CNN</th>\n",
       "      <th>MIN-MAX</th>\n",
       "      <th>MEAN</th>\n",
       "      <th>255</th>\n",
       "    </tr>\n",
       "  </thead>\n",
       "  <tbody>\n",
       "    <tr>\n",
       "      <th>0</th>\n",
       "      <td>LeNet-5</td>\n",
       "      <td>50.05%</td>\n",
       "      <td>56.69%</td>\n",
       "      <td>50.11%</td>\n",
       "    </tr>\n",
       "    <tr>\n",
       "      <th>1</th>\n",
       "      <td>Estándar</td>\n",
       "      <td>75.54%</td>\n",
       "      <td>75.86%</td>\n",
       "      <td>75.01%</td>\n",
       "    </tr>\n",
       "  </tbody>\n",
       "</table>\n",
       "</div>"
      ],
      "text/plain": [
       "        CNN MIN-MAX    MEAN     255\n",
       "0   LeNet-5  50.05%  56.69%  50.11%\n",
       "1  Estándar  75.54%  75.86%  75.01%"
      ]
     },
     "execution_count": 11,
     "metadata": {
      "tags": []
     },
     "output_type": "execute_result"
    }
   ],
   "source": [
    "import pandas as pd\n",
    "tabla = pd.DataFrame(columns=('CNN','MIN-MAX', 'MEAN','255'))\n",
    "tabla.loc[len(tabla)]=['LeNet-5','50.05%','56.69%','50.11%' ] \n",
    "tabla.loc[len(tabla)]=['Estándar','75.54%','75.86%','75.01%'] \n",
    "tabla\n",
    "tabla.head()"
   ]
  }
 ],
 "metadata": {
  "accelerator": "GPU",
  "colab": {
   "name": "CNN/255.ipynb",
   "provenance": []
  },
  "kernelspec": {
   "display_name": "Python 3",
   "language": "python",
   "name": "python3"
  },
  "language_info": {
   "codemirror_mode": {
    "name": "ipython",
    "version": 3
   },
   "file_extension": ".py",
   "mimetype": "text/x-python",
   "name": "python",
   "nbconvert_exporter": "python",
   "pygments_lexer": "ipython3",
   "version": "3.7.6"
  }
 },
 "nbformat": 4,
 "nbformat_minor": 1
}
