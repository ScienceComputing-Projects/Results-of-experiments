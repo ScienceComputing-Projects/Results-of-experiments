{
 "cells": [
  {
   "cell_type": "markdown",
   "metadata": {
    "colab_type": "text",
    "id": "OkDcAZyozipp"
   },
   "source": [
    "# **IMPORTACIÓN DE LIBRERIAS**\n"
   ]
  },
  {
   "cell_type": "code",
   "execution_count": 1,
   "metadata": {
    "colab": {},
    "colab_type": "code",
    "id": "PqKSmIvjwdEU"
   },
   "outputs": [],
   "source": [
    "import tarfile\n",
    "from tensorflow.keras.datasets import cifar10\n",
    "from tensorflow.keras.models import Sequential\n",
    "from tensorflow.keras.layers import Dense, Conv2D, MaxPool2D, Dropout, Flatten\n",
    "import matplotlib.pyplot as plt\n",
    "import numpy as np\n",
    "from time import time \n",
    "import tensorflow as tf\n",
    "from tensorflow.keras.optimizers import SGD\n",
    "from tensorflow.keras.utils import to_categorical\n",
    "from tensorflow.keras.callbacks import CSVLogger"
   ]
  },
  {
   "cell_type": "markdown",
   "metadata": {
    "colab_type": "text",
    "id": "dExk3sJRzqvJ"
   },
   "source": [
    "# **CARGA DEL DATASET (3000K DE IMÁGENES)**"
   ]
  },
  {
   "cell_type": "code",
   "execution_count": 2,
   "metadata": {
    "colab": {
     "base_uri": "https://localhost:8080/",
     "height": 51
    },
    "colab_type": "code",
    "id": "wY7EOimbxmhD",
    "outputId": "812182f0-597a-4577-9823-2de733f2decf"
   },
   "outputs": [
    {
     "name": "stdout",
     "output_type": "stream",
     "text": [
      "Downloading data from https://www.cs.toronto.edu/~kriz/cifar-10-python.tar.gz\n",
      "170500096/170498071 [==============================] - 28s 0us/step\n"
     ]
    }
   ],
   "source": [
    "(x_train, y_train), (x_test, y_test) = cifar10.load_data()\n"
   ]
  },
  {
   "cell_type": "markdown",
   "metadata": {
    "colab_type": "text",
    "id": "U5fwmjxbz5Wx"
   },
   "source": [
    "# **NORMALIZACIÓN ESTANDAR DEL DATASET**\n"
   ]
  },
  {
   "cell_type": "code",
   "execution_count": null,
   "metadata": {
    "colab": {},
    "colab_type": "code",
    "id": "NgiuyESUz32D"
   },
   "outputs": [],
   "source": [
    "x_train = x_train.astype('float32')\n",
    "x_test = x_test.astype('float32')\n",
    "x_train /= 255\n",
    "x_test /= 255"
   ]
  },
  {
   "cell_type": "markdown",
   "metadata": {
    "colab_type": "text",
    "id": "esbevP_E0GaZ"
   },
   "source": [
    "# **CREACIÓN DEL MODELO**"
   ]
  },
  {
   "cell_type": "code",
   "execution_count": 3,
   "metadata": {
    "colab": {},
    "colab_type": "code",
    "id": "EaIe2qV5x_0S"
   },
   "outputs": [],
   "source": [
    "# except Exception as e:\n",
    "model = Sequential()\n",
    "\n",
    "#Layer 1 \n",
    "model.add( Conv2D(48, kernel_size=(3,3),strides=(1,1), activation='relu', padding='same', input_shape=x_train.shape[1:] ) )\n",
    "model.add( MaxPool2D(pool_size=(2,2),strides=(2,2)) )\n",
    "\n",
    "#Layer 2\n",
    "model.add( Conv2D(96, kernel_size=(3,3), activation='relu', padding='same') )\n",
    "model.add( MaxPool2D(pool_size=(2,2),strides=(2,2)) )\n",
    "\n",
    "#Layer 3\n",
    "model.add( Conv2D(192, kernel_size=(3,3), activation='relu', padding='same') )\n",
    "\n",
    "\n",
    "#Layer 4\n",
    "model.add( Conv2D(192, kernel_size=(3,3), activation='relu', padding='same') )\n",
    "model.add( MaxPool2D(pool_size=(2,2),strides=(2,2)) )\n",
    "\n",
    "#Layer 5\n",
    "model.add( Conv2D(256, kernel_size=(3,3), activation='relu', padding='same') )\n",
    "model.add( MaxPool2D(pool_size=(2,2),strides=(2,2)) )\n",
    "\n",
    "model.add(Flatten())\n",
    "\n",
    "#Layer 6\n",
    "model.add(Dense(512, activation='tanh'))\n",
    "\n",
    "#Layer 7 \n",
    "model.add(Dense(256, activation='tanh'))\n",
    "\n",
    "#Prediction\n",
    "model.add(Dense(10, activation='softmax'))\n",
    "\n",
    "model.compile(loss='sparse_categorical_crossentropy',\n",
    "              optimizer='adam',\n",
    "              metrics=['accuracy'])"
   ]
  },
  {
   "cell_type": "markdown",
   "metadata": {
    "colab_type": "text",
    "id": "RzdSOy9o0MuZ"
   },
   "source": [
    "# **ENTRENAMIENTO DEL MODELO**"
   ]
  },
  {
   "cell_type": "code",
   "execution_count": 4,
   "metadata": {
    "colab": {
     "base_uri": "https://localhost:8080/",
     "height": 394
    },
    "colab_type": "code",
    "id": "hz2fXHltyKrg",
    "outputId": "35773ac2-5e46-4e32-90fc-d8f41df87661"
   },
   "outputs": [
    {
     "name": "stdout",
     "output_type": "stream",
     "text": [
      "Epoch 1/10\n",
      "391/391 [==============================] - 6s 15ms/step - loss: 1.5611 - accuracy: 0.4203 - val_loss: 1.1994 - val_accuracy: 0.5573\n",
      "Epoch 2/10\n",
      "391/391 [==============================] - 5s 13ms/step - loss: 1.0193 - accuracy: 0.6345 - val_loss: 0.9499 - val_accuracy: 0.6601\n",
      "Epoch 3/10\n",
      "391/391 [==============================] - 5s 13ms/step - loss: 0.7925 - accuracy: 0.7202 - val_loss: 0.7801 - val_accuracy: 0.7246\n",
      "Epoch 4/10\n",
      "391/391 [==============================] - 5s 13ms/step - loss: 0.6402 - accuracy: 0.7750 - val_loss: 0.7457 - val_accuracy: 0.7434\n",
      "Epoch 5/10\n",
      "391/391 [==============================] - 5s 13ms/step - loss: 0.5260 - accuracy: 0.8167 - val_loss: 0.7271 - val_accuracy: 0.7551\n",
      "Epoch 6/10\n",
      "391/391 [==============================] - 5s 13ms/step - loss: 0.4323 - accuracy: 0.8477 - val_loss: 0.7826 - val_accuracy: 0.7504\n",
      "Epoch 7/10\n",
      "391/391 [==============================] - 5s 14ms/step - loss: 0.3525 - accuracy: 0.8749 - val_loss: 0.8211 - val_accuracy: 0.7523\n",
      "Epoch 8/10\n",
      "391/391 [==============================] - 5s 14ms/step - loss: 0.2918 - accuracy: 0.8968 - val_loss: 0.8432 - val_accuracy: 0.7494\n",
      "Epoch 9/10\n",
      "391/391 [==============================] - 5s 14ms/step - loss: 0.2381 - accuracy: 0.9142 - val_loss: 0.9584 - val_accuracy: 0.7479\n",
      "Epoch 10/10\n",
      "391/391 [==============================] - 5s 14ms/step - loss: 0.1886 - accuracy: 0.9332 - val_loss: 1.0495 - val_accuracy: 0.7368\n",
      "Elapsed time: 61.7865011692 seconds.\n"
     ]
    }
   ],
   "source": [
    "start_time = time()\n",
    "history = model.fit(x_train, y_train, batch_size= 128, epochs=10 , validation_data=(x_test, y_test), verbose=1)\n",
    "elapsed_time = time() - start_time\n",
    "print(\"Elapsed time: %.10f seconds.\" % elapsed_time)"
   ]
  },
  {
   "cell_type": "markdown",
   "metadata": {
    "colab_type": "text",
    "id": "sULYxMNi0Rva"
   },
   "source": [
    "# **RESULTADOS DE LA EVALUACIÓN**"
   ]
  },
  {
   "cell_type": "code",
   "execution_count": 5,
   "metadata": {
    "colab": {
     "base_uri": "https://localhost:8080/",
     "height": 71
    },
    "colab_type": "code",
    "id": "p80mk184yPmD",
    "outputId": "fc2fb21d-99ac-4efc-b8d4-c2587a2e52e7"
   },
   "outputs": [
    {
     "name": "stdout",
     "output_type": "stream",
     "text": [
      "313/313 [==============================] - 1s 3ms/step - loss: 1.0495 - accuracy: 0.7368\n",
      "Test loss 1.0495, accuracy 73.68%\n"
     ]
    }
   ],
   "source": [
    "test_score = model.evaluate(x_test, y_test)\n",
    "print('Test loss {:.4f}, accuracy {:.2f}%'.format(test_score[0], test_score[1] * 100))"
   ]
  },
  {
   "cell_type": "markdown",
   "metadata": {
    "colab_type": "text",
    "id": "H4Eea1Qy0WUy"
   },
   "source": [
    "# **GRÁFICA DE LA EVALUACIÓN Y ENTRENAMIENTO ACC**"
   ]
  },
  {
   "cell_type": "code",
   "execution_count": 6,
   "metadata": {
    "colab": {
     "base_uri": "https://localhost:8080/",
     "height": 349
    },
    "colab_type": "code",
    "id": "ZXNWJqIRyWkR",
    "outputId": "9ef72177-e01a-4f33-946b-6ba4b60ebba7"
   },
   "outputs": [
    {
     "name": "stdout",
     "output_type": "stream",
     "text": [
      "[0.5572999715805054, 0.660099983215332, 0.7246000170707703, 0.743399977684021, 0.7551000118255615, 0.7504000067710876, 0.7523000240325928, 0.7494000196456909, 0.7479000091552734, 0.7368000149726868]\n"
     ]
    },
    {
     "data": {
      "text/plain": [
       "Text(0, 0.5, 'acc')"
      ]
     },
     "execution_count": 6,
     "metadata": {
      "tags": []
     },
     "output_type": "execute_result"
    },
    {
     "data": {
      "image/png": "[encoded data removed]",
      "text/plain": [
       "<Figure size 432x288 with 1 Axes>"
      ]
     },
     "metadata": {
      "needs_background": "light",
      "tags": []
     },
     "output_type": "display_data"
    }
   ],
   "source": [
    "import matplotlib.pyplot as plt\n",
    "f, ax = plt.subplots()\n",
    "print(history.history['val_accuracy'])\n",
    "ax.plot([None] + history.history['accuracy'], 'o-')\n",
    "ax.plot([None] + history.history['val_accuracy'],'x-')\n",
    "# Plot legend and use the best location automatically: loc = 0.\n",
    "ax.legend(['Train acc', 'Validation acc'], loc = 0)\n",
    "ax.set_title('Training/Validation acc por Epoch')\n",
    "ax.set_xlabel('Epoch')\n",
    "ax.set_ylabel('acc')"
   ]
  },
  {
   "cell_type": "code",
   "execution_count": 7,
   "metadata": {
    "colab": {
     "base_uri": "https://localhost:8080/",
     "height": 312
    },
    "colab_type": "code",
    "id": "dap7QLShyZpY",
    "outputId": "355d628c-f4af-4489-c58f-0565bf385539"
   },
   "outputs": [
    {
     "data": {
      "text/plain": [
       "Text(0, 0.5, 'Loss')"
      ]
     },
     "execution_count": 7,
     "metadata": {
      "tags": []
     },
     "output_type": "execute_result"
    },
    {
     "data": {
      "image/png": "[encoded data removed]",
      "text/plain": [
       "<Figure size 432x288 with 1 Axes>"
      ]
     },
     "metadata": {
      "needs_background": "light",
      "tags": []
     },
     "output_type": "display_data"
    }
   ],
   "source": [
    "import matplotlib.pyplot as plt\n",
    "f, ax = plt.subplots()\n",
    "ax.plot([None] + history.history['loss'], 'o-')\n",
    "ax.plot([None] + history.history['val_loss'], 'x-')\n",
    "# Plot legend and use the best location automatically: loc = 0.\n",
    "ax.legend(['Train Loss', 'Validation Loss'], loc = 0)\n",
    "ax.set_title('Training/Validation Loss por Epoch')\n",
    "ax.set_xlabel('Epoch')\n",
    "ax.set_ylabel('Loss')"
   ]
  }
 ],
 "metadata": {
  "accelerator": "GPU",
  "colab": {
   "collapsed_sections": [],
   "name": "AlexNet_NormalizacionEstandar",
   "provenance": []
  },
  "kernelspec": {
   "display_name": "Python 3",
   "language": "python",
   "name": "python3"
  },
  "language_info": {
   "codemirror_mode": {
    "name": "ipython",
    "version": 3
   },
   "file_extension": ".py",
   "mimetype": "text/x-python",
   "name": "python",
   "nbconvert_exporter": "python",
   "pygments_lexer": "ipython3",
   "version": "3.7.4"
  }
 },
 "nbformat": 4,
 "nbformat_minor": 1
}
